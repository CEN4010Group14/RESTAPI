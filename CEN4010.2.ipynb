{
 "cells": [
  {
   "cell_type": "code",
   "execution_count": null,
   "id": "e78c72ca-d964-4173-9206-c6c41e1ad8d1",
   "metadata": {},
   "outputs": [],
   "source": [
    "] add Distributions"
   ]
  },
  {
   "cell_type": "code",
   "execution_count": null,
   "id": "78a4df28-181c-4825-acd0-2375b1e36dd8",
   "metadata": {},
   "outputs": [],
   "source": [
    "using CSV\n",
    "using DataFrames\n",
    "using DataFramesMeta\n",
    "using ODBC\n",
    "using Distributions\n",
    "using StatsBase"
   ]
  },
  {
   "cell_type": "code",
   "execution_count": null,
   "id": "6b461fb2-c842-41f4-9780-e485febadb9b",
   "metadata": {},
   "outputs": [],
   "source": [
    "bs = \"bulk_bookstore_dataset.csv\""
   ]
  },
  {
   "cell_type": "code",
   "execution_count": null,
   "id": "ae86b7af-5fc6-4c8d-851f-18541622df17",
   "metadata": {},
   "outputs": [],
   "source": [
    "df = CSV.read(read(bs), DataFrame);"
   ]
  },
  {
   "cell_type": "code",
   "execution_count": null,
   "id": "6de837d5-51d3-46e1-ab02-a29eb4520682",
   "metadata": {},
   "outputs": [],
   "source": [
    "df = @chain df begin\n",
    "    @rtransform $[:crap, :genre, :name] = begin\n",
    "        x = split(:Breadcrumbs, \"|\")\n",
    "        get.(Ref(x), 1:3, missing)\n",
    "    end\n",
    "end"
   ]
  },
  {
   "cell_type": "code",
   "execution_count": null,
   "id": "9b72746c-f1ff-45c9-9a3c-3cc7320c5bbf",
   "metadata": {},
   "outputs": [],
   "source": [
    "df.rating = rand(Uniform(1,5),nrow(df));"
   ]
  },
  {
   "cell_type": "code",
   "execution_count": 119,
   "id": "4edea9fc-d8d3-465b-887e-2e7265fb791a",
   "metadata": {
    "tags": []
   },
   "outputs": [],
   "source": [
    "aDf = CSV.read(read(\"iAuthors.csv\"), DataFrame; header=[\"id\", \"FirstName\", \"LastName\", \"Biography\", \"PublisherId\"]);"
   ]
  },
  {
   "cell_type": "code",
   "execution_count": 120,
   "id": "17f8ec96-1715-4d92-9738-73a198ff1b14",
   "metadata": {
    "tags": []
   },
   "outputs": [],
   "source": [
    "aDf.author = [row.FirstName * ' ' * row.LastName for row in eachrow(aDf)];"
   ]
  },
  {
   "cell_type": "code",
   "execution_count": 121,
   "id": "34747a33-b016-40fd-b715-dfda7213b349",
   "metadata": {},
   "outputs": [
    {
     "data": {
      "text/plain": [
       "186"
      ]
     },
     "execution_count": 121,
     "metadata": {},
     "output_type": "execute_result"
    }
   ],
   "source": [
    "nrow(aDf)"
   ]
  },
  {
   "cell_type": "code",
   "execution_count": 122,
   "id": "a2087b47-fb1a-431c-bdfb-42035e4f56de",
   "metadata": {},
   "outputs": [],
   "source": [
    "aDf = unique(aDf, :author);"
   ]
  },
  {
   "cell_type": "code",
   "execution_count": 123,
   "id": "3dbba45b-077e-4ba9-9fab-eddeaebf7d71",
   "metadata": {},
   "outputs": [
    {
     "data": {
      "text/plain": [
       "186"
      ]
     },
     "execution_count": 123,
     "metadata": {},
     "output_type": "execute_result"
    }
   ],
   "source": [
    "nrow(aDf)"
   ]
  },
  {
   "cell_type": "code",
   "execution_count": 124,
   "id": "0ac08eca-a65b-47c6-adda-1ef392a786f5",
   "metadata": {},
   "outputs": [
    {
     "data": {
      "text/html": [
       "<div><div style = \"float: left;\"><span>1×6 DataFrame</span></div><div style = \"clear: both;\"></div></div><div class = \"data-frame\" style = \"overflow-x: scroll;\"><table class = \"data-frame\" style = \"margin-bottom: 6px;\"><thead><tr class = \"header\"><th class = \"rowNumber\" style = \"font-weight: bold; text-align: right;\">Row</th><th style = \"text-align: left;\">id</th><th style = \"text-align: left;\">FirstName</th><th style = \"text-align: left;\">LastName</th><th style = \"text-align: left;\">Biography</th><th style = \"text-align: left;\">PublisherId</th><th style = \"text-align: left;\">author</th></tr><tr class = \"subheader headerLastRow\"><th class = \"rowNumber\" style = \"font-weight: bold; text-align: right;\"></th><th title = \"Int64\" style = \"text-align: left;\">Int64</th><th title = \"String15\" style = \"text-align: left;\">String15</th><th title = \"String31\" style = \"text-align: left;\">String31</th><th title = \"String\" style = \"text-align: left;\">String</th><th title = \"Int64\" style = \"text-align: left;\">Int64</th><th title = \"String\" style = \"text-align: left;\">String</th></tr></thead><tbody><tr><td class = \"rowNumber\" style = \"font-weight: bold; text-align: right;\">1</td><td style = \"text-align: right;\">1</td><td style = \"text-align: left;\">Pauline</td><td style = \"text-align: left;\">Baynes</td><td style = \"text-align: left;\">CLIVE STAPLES LEWIS (1898-1963) was one of the intellectual giants of the twentieth century and arguably one of the most influential writers of his day. He was a fellow and tutor in English Literature at Oxford University until 1954 when he was unanimously elected to the Chair of Medieval and Renaissance English at Cambridge University, a position he held until his retirement. He wrote more than thirty books, allowing him to reach a vast audience, and his works continue to attract thousands of new readers every year. His most distinguished and popular accomplishments include Mere Christianity, Out of the Silent Planet, The Great Divorce, The Screwtape Letters, and the universally acknowledged classics, the Chronicles of Narnia. To date, the Narnia books have sold over 100 million copies and been transformed into three major motion pictures.</td><td style = \"text-align: right;\">3</td><td style = \"text-align: left;\">Pauline Baynes</td></tr></tbody></table></div>"
      ],
      "text/latex": [
       "\\begin{tabular}{r|ccccc}\n",
       "\t& id & FirstName & LastName & Biography & \\\\\n",
       "\t\\hline\n",
       "\t& Int64 & String15 & String31 & String & \\\\\n",
       "\t\\hline\n",
       "\t1 & 1 & Pauline & Baynes & CLIVE STAPLES LEWIS (1898-1963) was one of the intellectual giants of the twentieth century and arguably one of the most influential writers of his day. He was a fellow and tutor in English Literature at Oxford University until 1954 when he was unanimously elected to the Chair of Medieval and Renaissance English at Cambridge University, a position he held until his retirement. He wrote more than thirty books, allowing him to reach a vast audience, and his works continue to attract thousands of new readers every year. His most distinguished and popular accomplishments include Mere Christianity, Out of the Silent Planet, The Great Divorce, The Screwtape Letters, and the universally acknowledged classics, the Chronicles of Narnia. To date, the Narnia books have sold over 100 million copies and been transformed into three major motion pictures. & $\\dots$ \\\\\n",
       "\\end{tabular}\n"
      ],
      "text/plain": [
       "\u001b[1m1×6 DataFrame\u001b[0m\n",
       "\u001b[1m Row \u001b[0m│\u001b[1m id    \u001b[0m\u001b[1m FirstName \u001b[0m\u001b[1m LastName \u001b[0m\u001b[1m Biography                         \u001b[0m\u001b[1m Publishe\u001b[0m ⋯\n",
       "     │\u001b[90m Int64 \u001b[0m\u001b[90m String15  \u001b[0m\u001b[90m String31 \u001b[0m\u001b[90m String                            \u001b[0m\u001b[90m Int64   \u001b[0m ⋯\n",
       "─────┼──────────────────────────────────────────────────────────────────────────\n",
       "   1 │     1  Pauline    Baynes    CLIVE STAPLES LEWIS (1898-1963) …           ⋯\n",
       "\u001b[36m                                                               2 columns omitted\u001b[0m"
      ]
     },
     "execution_count": 124,
     "metadata": {},
     "output_type": "execute_result"
    }
   ],
   "source": [
    "first(aDf,1)"
   ]
  },
  {
   "cell_type": "code",
   "execution_count": null,
   "id": "8495fb8b-7ada-4501-b659-a81a6d0819b0",
   "metadata": {},
   "outputs": [],
   "source": [
    "df.ISBN = [SubString(s,3,15) for s in df.ISBN];\n",
    "df.ISBN = [parse(Int64,s) for s in df.ISBN];"
   ]
  },
  {
   "cell_type": "code",
   "execution_count": 117,
   "id": "580e47e4-9097-4740-9358-5e4ddaa1bdec",
   "metadata": {},
   "outputs": [],
   "source": [
    "iDf = CSV.read(read(\"iBooks.csv\"), DataFrame; header=[:id, :ISBN, :name, :Price, :rating, :GenreId, :PublisherId, :year,:copies, :description]);"
   ]
  },
  {
   "cell_type": "code",
   "execution_count": 118,
   "id": "73ce038a-8029-4382-964d-6bc76297d95b",
   "metadata": {},
   "outputs": [
    {
     "data": {
      "text/html": [
       "<div><div style = \"float: left;\"><span>1×10 DataFrame</span></div><div style = \"clear: both;\"></div></div><div class = \"data-frame\" style = \"overflow-x: scroll;\"><table class = \"data-frame\" style = \"margin-bottom: 6px;\"><thead><tr class = \"header\"><th class = \"rowNumber\" style = \"font-weight: bold; text-align: right;\">Row</th><th style = \"text-align: left;\">id</th><th style = \"text-align: left;\">ISBN</th><th style = \"text-align: left;\">name</th><th style = \"text-align: left;\">Price</th><th style = \"text-align: left;\">rating</th><th style = \"text-align: left;\">GenreId</th><th style = \"text-align: left;\">PublisherId</th><th style = \"text-align: left;\">year</th><th style = \"text-align: left;\">copies</th><th style = \"text-align: left;\">description</th></tr><tr class = \"subheader headerLastRow\"><th class = \"rowNumber\" style = \"font-weight: bold; text-align: right;\"></th><th title = \"Int64\" style = \"text-align: left;\">Int64</th><th title = \"Int64\" style = \"text-align: left;\">Int64</th><th title = \"String\" style = \"text-align: left;\">String</th><th title = \"Float64\" style = \"text-align: left;\">Float64</th><th title = \"Float64\" style = \"text-align: left;\">Float64</th><th title = \"Int64\" style = \"text-align: left;\">Int64</th><th title = \"Int64\" style = \"text-align: left;\">Int64</th><th title = \"Int64\" style = \"text-align: left;\">Int64</th><th title = \"Int64\" style = \"text-align: left;\">Int64</th><th title = \"String\" style = \"text-align: left;\">String</th></tr></thead><tbody><tr><td class = \"rowNumber\" style = \"font-weight: bold; text-align: right;\">1</td><td style = \"text-align: right;\">1</td><td style = \"text-align: right;\">9780060001261</td><td style = \"text-align: left;\">Less Than Zero</td><td style = \"text-align: right;\">5.99</td><td style = \"text-align: right;\">3.02772</td><td style = \"text-align: right;\">1</td><td style = \"text-align: right;\">2</td><td style = \"text-align: right;\">2003</td><td style = \"text-align: right;\">143535</td><td style = \"text-align: left;\">Perry the Penguin needs 9 clams to buy an ice scooter -- but he&apos;s not very good at saving. As Perry earns, spends, finds, loses, and borrows clams, a simple line graph demonstrates the concept of negative numbers.</td></tr></tbody></table></div>"
      ],
      "text/latex": [
       "\\begin{tabular}{r|ccccccccc}\n",
       "\t& id & ISBN & name & Price & rating & GenreId & PublisherId & year & \\\\\n",
       "\t\\hline\n",
       "\t& Int64 & Int64 & String & Float64 & Float64 & Int64 & Int64 & Int64 & \\\\\n",
       "\t\\hline\n",
       "\t1 & 1 & 9780060001261 & Less Than Zero & 5.99 & 3.02772 & 1 & 2 & 2003 & $\\dots$ \\\\\n",
       "\\end{tabular}\n"
      ],
      "text/plain": [
       "\u001b[1m1×10 DataFrame\u001b[0m\n",
       "\u001b[1m Row \u001b[0m│\u001b[1m id    \u001b[0m\u001b[1m ISBN          \u001b[0m\u001b[1m name           \u001b[0m\u001b[1m Price   \u001b[0m\u001b[1m rating  \u001b[0m\u001b[1m GenreId \u001b[0m\u001b[1m Publis\u001b[0m ⋯\n",
       "     │\u001b[90m Int64 \u001b[0m\u001b[90m Int64         \u001b[0m\u001b[90m String         \u001b[0m\u001b[90m Float64 \u001b[0m\u001b[90m Float64 \u001b[0m\u001b[90m Int64   \u001b[0m\u001b[90m Int64 \u001b[0m ⋯\n",
       "─────┼──────────────────────────────────────────────────────────────────────────\n",
       "   1 │     1  9780060001261  Less Than Zero     5.99  3.02772        1         ⋯\n",
       "\u001b[36m                                                               4 columns omitted\u001b[0m"
      ]
     },
     "execution_count": 118,
     "metadata": {},
     "output_type": "execute_result"
    }
   ],
   "source": [
    "first(iDf,1)"
   ]
  },
  {
   "cell_type": "code",
   "execution_count": 97,
   "id": "f7d53c74-229e-4cf7-b706-875641c6fe9a",
   "metadata": {},
   "outputs": [],
   "source": [
    "authors = String[]\n",
    "for row in eachrow(iDf)\n",
    "    author = String(strip(df[only(findall(==(row.ISBN), df.ISBN)), :].Author))\n",
    "    # println(author)\n",
    "    author = split(author, \",\")\n",
    "    push!(authors, String(strip(author[1])))\n",
    "end\n",
    "# println(length(authors))\n",
    "# println(nrow(iDf))    \n"
   ]
  },
  {
   "cell_type": "code",
   "execution_count": null,
   "id": "138c4643-8290-4d48-9b01-500190ee25bc",
   "metadata": {},
   "outputs": [],
   "source": []
  },
  {
   "cell_type": "code",
   "execution_count": null,
   "id": "d5099a88-d981-430e-90f1-0e35cc3efe0a",
   "metadata": {},
   "outputs": [],
   "source": [
    "df.copies = rand(1000:1000000,nrow(df));"
   ]
  },
  {
   "cell_type": "code",
   "execution_count": null,
   "id": "45aefe36-a1f2-4e33-95a2-cc3753ca5090",
   "metadata": {
    "pycharm": {
     "name": "#%%\n"
    }
   },
   "outputs": [],
   "source": [
    "# df.pub = [x.match for x in match.(r\"^(\\w+)\", df.Publisher)]\n",
    "df.PublisherId = [StatsBase.sample([1,2,3]) for _ in range(start=1, end=nrow(df))]"
   ]
  },
  {
   "cell_type": "code",
   "execution_count": null,
   "id": "b34d19e0-ea28-4bc4-a7f8-3d1dbb544173",
   "metadata": {},
   "outputs": [],
   "source": [
    "df.year = [parse(Int64,x.match) for x in match.(r\"(\\d{4})\", df.Publisher)];"
   ]
  },
  {
   "cell_type": "code",
   "execution_count": null,
   "id": "8307eed0-c556-4118-a809-3b27d96c998d",
   "metadata": {},
   "outputs": [],
   "source": [
    "odf = CSV.read(read(\"out.csv\"), DataFrame);"
   ]
  },
  {
   "cell_type": "code",
   "execution_count": null,
   "id": "e4fa2ba5-40e3-4c73-95d0-275f75629896",
   "metadata": {},
   "outputs": [],
   "source": [
    "df.description = odf[:,\"description\"];"
   ]
  },
  {
   "cell_type": "code",
   "execution_count": null,
   "id": "425762bd-ba2d-4918-b8db-46d11da31b3d",
   "metadata": {},
   "outputs": [],
   "source": [
    "df.ISBN = [SubString(s,3,15) for s in df.ISBN];"
   ]
  },
  {
   "cell_type": "code",
   "execution_count": null,
   "id": "7c405241-d68a-4374-9f4d-a03062a7ec91",
   "metadata": {},
   "outputs": [],
   "source": [
    "df.ISBN = [parse(Int64,s) for s in df.ISBN];"
   ]
  },
  {
   "cell_type": "code",
   "execution_count": 103,
   "id": "e6939e56-961c-4821-a070-20d3606346ec",
   "metadata": {},
   "outputs": [],
   "source": [
    "df = df[completecases(df),:]\n",
    "disallowmissing!(df);"
   ]
  },
  {
   "cell_type": "code",
   "execution_count": 104,
   "id": "743aff1f-f64c-49d0-9012-170d14dc5c3c",
   "metadata": {},
   "outputs": [
    {
     "data": {
      "text/plain": [
       "Set{Any}()"
      ]
     },
     "execution_count": 104,
     "metadata": {},
     "output_type": "execute_result"
    }
   ],
   "source": [
    "nSet = Set()"
   ]
  },
  {
   "cell_type": "code",
   "execution_count": 105,
   "id": "dd2ec3f5-301b-4d31-9ed1-29e5ecdaedc9",
   "metadata": {
    "tags": []
   },
   "outputs": [],
   "source": [
    "pdf = DataFrame()\n",
    "for row in eachrow(df)\n",
    "    twoNames = split(row.Author, \",\")\n",
    "    for name in twoNames\n",
    "        name = strip(String(name))\n",
    "        row.Author = name \n",
    "        push!(pdf, row)\n",
    "        push!(nSet, name)\n",
    "    end\n",
    "end        "
   ]
  },
  {
   "cell_type": "code",
   "execution_count": null,
   "id": "988bc814-e470-4b2d-bf5f-0755cdcce9ac",
   "metadata": {},
   "outputs": [],
   "source": [
    "saDf = DataFrame([:AuthorId=>[], :Author=>[]])\n",
    "for (i, val) in enumerate(nSet)\n",
    "    push!(saDf, [i strip(val)])\n",
    "    # println(nrow(filter(:Author => n -> n == val, df)))\n",
    "    # filter(:Author => n -> n == val, df).AuthorId .= i\n",
    "    # df[:AuthorId, filter(:Author => n -> n == val, df)] .= i\n",
    "    # @. df.AuthorId = ifelse(df.Author == val, i, df.AuthorId)\n",
    "    # println(filter(:Author => n -> n == val, df).AuthorId)\n",
    "    # println(i)\n",
    "end"
   ]
  },
  {
   "cell_type": "code",
   "execution_count": null,
   "id": "9726028f-77e2-4b60-a513-b86a4557bdf6",
   "metadata": {},
   "outputs": [],
   "source": [
    "print(nrow(saDf))"
   ]
  },
  {
   "cell_type": "code",
   "execution_count": null,
   "id": "4bcefde1-e34f-4a3f-9c2d-0d2a3eb55ef6",
   "metadata": {},
   "outputs": [],
   "source": [
    "afiles = readdir(\"./au\", join=true)"
   ]
  },
  {
   "cell_type": "code",
   "execution_count": null,
   "id": "9e8edc0f-d064-4a92-b077-fe29ab216105",
   "metadata": {},
   "outputs": [],
   "source": [
    "adf = CSV.read(read(afiles[1]), DataFrame)\n",
    "for file in afiles[2:end]\n",
    "    adf =  vcat(adf, CSV.read(read(file), DataFrame));\n",
    "end    "
   ]
  },
  {
   "cell_type": "code",
   "execution_count": null,
   "id": "5f8461ce-c45e-4bd5-9ce5-e1b05e1e1309",
   "metadata": {
    "tags": []
   },
   "outputs": [],
   "source": [
    "adf = adf[completecases(adf),:] "
   ]
  },
  {
   "cell_type": "code",
   "execution_count": null,
   "id": "aeba81fe-42ba-4d9a-bcfc-c932c8aedec2",
   "metadata": {},
   "outputs": [],
   "source": [
    "nrow(saDf)"
   ]
  },
  {
   "cell_type": "code",
   "execution_count": null,
   "id": "3df7fc9f-3397-4a56-9a95-9755e3d30e46",
   "metadata": {},
   "outputs": [],
   "source": [
    "function parseFirstName(s::String)::String\n",
    "    names = split(s, \" \")\n",
    "    if length(names) == 3\n",
    "        return names[1] * \" \" * names[2]\n",
    "    end\n",
    "    return names[1]\n",
    "end"
   ]
  },
  {
   "cell_type": "code",
   "execution_count": null,
   "id": "ab80f214-f554-4a6a-92c8-f07be669c9cc",
   "metadata": {},
   "outputs": [],
   "source": [
    "function parseLastName(s::String)::String\n",
    "    names = split(s, \" \")\n",
    "    if length(names) == 3\n",
    "        return names[3]\n",
    "    end\n",
    "    if length(names) < 2\n",
    "        println(s)\n",
    "        return \"\"\n",
    "    end\n",
    "    return names[2]\n",
    "end"
   ]
  },
  {
   "cell_type": "code",
   "execution_count": null,
   "id": "e8c08ab6-8dde-4871-9c66-a19571930b5e",
   "metadata": {},
   "outputs": [],
   "source": [
    "aDf = DataFrame([:id=>[], :FirstName=>[], :LastName=>[], :Biography=>[], :PublisherId=>[], :Author=>[]])\n",
    "for row in eachrow(adf)\n",
    "    authors =  pdf[findall(==(row.ISBN), pdf.ISBN), :].Author\n",
    "    for author in eachrow(authors)\n",
    "        author = String(strip(String(author[1])))\n",
    "        try\n",
    "            AuthorId = saDf[only(findall(==(author), saDf.Author)), :].AuthorId\n",
    "            push!(aDf, [AuthorId parseFirstName(author) parseLastName(author) row.biography 1 author])\n",
    "        catch e\n",
    "            println(e)\n",
    "            println(author)\n",
    "            continue\n",
    "        end    \n",
    "    end\n",
    "end    "
   ]
  },
  {
   "cell_type": "code",
   "execution_count": null,
   "id": "abb14953-0e77-4456-9349-5d8854d54722",
   "metadata": {},
   "outputs": [],
   "source": [
    "df = filter(:Author => i -> (i ∈ aDf.Author), pdf);"
   ]
  },
  {
   "cell_type": "code",
   "execution_count": null,
   "id": "87fa5f12-4039-4c98-82df-79b770a701c7",
   "metadata": {},
   "outputs": [],
   "source": [
    "nrow(df)\n",
    "# df.AuthorId =[aDf[only(findall(==(row.Author), aDf.author)), :].id for row in eachrow(df)];"
   ]
  },
  {
   "cell_type": "code",
   "execution_count": null,
   "id": "a9601a32-a422-48de-963b-5b46a5ea30d8",
   "metadata": {},
   "outputs": [],
   "source": [
    "genres = CSV.read(read(\"genres.csv\"), DataFrame);"
   ]
  },
  {
   "cell_type": "code",
   "execution_count": null,
   "id": "1b45015d-3372-463a-99fa-3997aa1fd6f4",
   "metadata": {
    "tags": []
   },
   "outputs": [],
   "source": [
    "df.GenreId = [rownumber(genres[only(findall(==(row.genre), genres.genre)), :]) for row in eachrow(df)];"
   ]
  },
  {
   "cell_type": "code",
   "execution_count": null,
   "id": "d73be0fa-d76e-4191-8324-e5554535169a",
   "metadata": {},
   "outputs": [],
   "source": [
    "df.Price = [parse(Float64, SubString(s,2)) for s in df.Price]"
   ]
  },
  {
   "cell_type": "code",
   "execution_count": null,
   "id": "eeb0ee87-62ff-4639-ba44-f0adc9246124",
   "metadata": {},
   "outputs": [],
   "source": [
    "CSV.write(\".\\\\books.csv\", df[:,[:ISBN, :name, :Price, :rating, :GenreId, :PublisherId, :year,:copies, :description]]; openquotechar='\"', closequotechar='\"', escapechar='\"', quotestrings=true)"
   ]
  },
  {
   "cell_type": "code",
   "execution_count": null,
   "id": "93deaed3-0d0a-44a6-8256-7f0b2cc3a1f2",
   "metadata": {},
   "outputs": [],
   "source": [
    "nrow(aDf)"
   ]
  },
  {
   "cell_type": "code",
   "execution_count": null,
   "id": "35a87549-84f7-41d8-a6db-266744e145bb",
   "metadata": {},
   "outputs": [],
   "source": [
    "aDf = unique(aDf, :id)"
   ]
  },
  {
   "cell_type": "code",
   "execution_count": null,
   "id": "db009f03-50b2-4561-bd93-54abd968db00",
   "metadata": {
    "tags": []
   },
   "outputs": [],
   "source": [
    "CSV.write(\".\\\\authors.csv\", aDf[:,[:id, :FirstName, :LastName, :Biography, :PublisherId]]; openquotechar='\"', closequotechar='\"', escapechar='\"', quotestrings=true)"
   ]
  },
  {
   "cell_type": "code",
   "execution_count": null,
   "id": "c0fdc6d1-940a-46e7-bb03-04c17eddeedb",
   "metadata": {},
   "outputs": [],
   "source": [
    "df = CSV.read(read(\"iBooks.csv\"), DataFrame; header=[:id, :ISBN, :name, :Price, :rating, :GenreId, :PublisherId, :year,:copies, :description]);"
   ]
  },
  {
   "cell_type": "code",
   "execution_count": 126,
   "id": "6f6fede6-a8dd-457c-997b-836801cd52be",
   "metadata": {},
   "outputs": [
    {
     "data": {
      "text/html": [
       "<div><div style = \"float: left;\"><span>0×2 DataFrame</span></div><div style = \"clear: both;\"></div></div><div class = \"data-frame\" style = \"overflow-x: scroll;\"><table class = \"data-frame\" style = \"margin-bottom: 6px;\"><thead><tr class = \"header\"><th class = \"rowNumber\" style = \"font-weight: bold; text-align: right;\">Row</th><th style = \"text-align: left;\">BookId</th><th style = \"text-align: left;\">AuthorId</th></tr><tr class = \"subheader headerLastRow\"><th class = \"rowNumber\" style = \"font-weight: bold; text-align: right;\"></th><th title = \"Any\" style = \"text-align: left;\">Any</th><th title = \"Any\" style = \"text-align: left;\">Any</th></tr></thead><tbody></tbody></table></div>"
      ],
      "text/latex": [
       "\\begin{tabular}{r|cc}\n",
       "\t& BookId & AuthorId\\\\\n",
       "\t\\hline\n",
       "\t& Any & Any\\\\\n",
       "\t\\hline\n",
       "\\end{tabular}\n"
      ],
      "text/plain": [
       "\u001b[1m0×2 DataFrame\u001b[0m\n",
       "\u001b[1m Row \u001b[0m│\u001b[1m BookId \u001b[0m\u001b[1m AuthorId \u001b[0m\n",
       "     │\u001b[90m Any    \u001b[0m\u001b[90m Any      \u001b[0m\n",
       "─────┴──────────────────"
      ]
     },
     "execution_count": 126,
     "metadata": {},
     "output_type": "execute_result"
    }
   ],
   "source": [
    "book_authors = DataFrame([:BookId=>[],:AuthorId=>[]] )"
   ]
  },
  {
   "cell_type": "code",
   "execution_count": null,
   "id": "33b25bfd-9cce-4872-942f-ad527ade9de8",
   "metadata": {},
   "outputs": [],
   "source": [
    "author = \"Lynn Sweat\"\n",
    "aDf[findall(==(author), aDf.Author), :]"
   ]
  },
  {
   "cell_type": "code",
   "execution_count": 108,
   "id": "748ab43a-f4aa-4b12-b1ae-f2f63f4d40c0",
   "metadata": {},
   "outputs": [
    {
     "data": {
      "text/html": [
       "<div><div style = \"float: left;\"><span>1×6 DataFrame</span></div><div style = \"clear: both;\"></div></div><div class = \"data-frame\" style = \"overflow-x: scroll;\"><table class = \"data-frame\" style = \"margin-bottom: 6px;\"><thead><tr class = \"header\"><th class = \"rowNumber\" style = \"font-weight: bold; text-align: right;\">Row</th><th style = \"text-align: left;\">id</th><th style = \"text-align: left;\">FirstName</th><th style = \"text-align: left;\">LastName</th><th style = \"text-align: left;\">Biography</th><th style = \"text-align: left;\">PublisherId</th><th style = \"text-align: left;\">author</th></tr><tr class = \"subheader headerLastRow\"><th class = \"rowNumber\" style = \"font-weight: bold; text-align: right;\"></th><th title = \"Int64\" style = \"text-align: left;\">Int64</th><th title = \"String15\" style = \"text-align: left;\">String15</th><th title = \"String31\" style = \"text-align: left;\">String31</th><th title = \"String\" style = \"text-align: left;\">String</th><th title = \"Int64\" style = \"text-align: left;\">Int64</th><th title = \"String\" style = \"text-align: left;\">String</th></tr></thead><tbody><tr><td class = \"rowNumber\" style = \"font-weight: bold; text-align: right;\">1</td><td style = \"text-align: right;\">1</td><td style = \"text-align: left;\">Pauline</td><td style = \"text-align: left;\">Baynes</td><td style = \"text-align: left;\">CLIVE STAPLES LEWIS (1898-1963) was one of the intellectual giants of the twentieth century and arguably one of the most influential writers of his day. He was a fellow and tutor in English Literature at Oxford University until 1954 when he was unanimously elected to the Chair of Medieval and Renaissance English at Cambridge University, a position he held until his retirement. He wrote more than thirty books, allowing him to reach a vast audience, and his works continue to attract thousands of new readers every year. His most distinguished and popular accomplishments include Mere Christianity, Out of the Silent Planet, The Great Divorce, The Screwtape Letters, and the universally acknowledged classics, the Chronicles of Narnia. To date, the Narnia books have sold over 100 million copies and been transformed into three major motion pictures.</td><td style = \"text-align: right;\">3</td><td style = \"text-align: left;\">Pauline Baynes</td></tr></tbody></table></div>"
      ],
      "text/latex": [
       "\\begin{tabular}{r|ccccc}\n",
       "\t& id & FirstName & LastName & Biography & \\\\\n",
       "\t\\hline\n",
       "\t& Int64 & String15 & String31 & String & \\\\\n",
       "\t\\hline\n",
       "\t1 & 1 & Pauline & Baynes & CLIVE STAPLES LEWIS (1898-1963) was one of the intellectual giants of the twentieth century and arguably one of the most influential writers of his day. He was a fellow and tutor in English Literature at Oxford University until 1954 when he was unanimously elected to the Chair of Medieval and Renaissance English at Cambridge University, a position he held until his retirement. He wrote more than thirty books, allowing him to reach a vast audience, and his works continue to attract thousands of new readers every year. His most distinguished and popular accomplishments include Mere Christianity, Out of the Silent Planet, The Great Divorce, The Screwtape Letters, and the universally acknowledged classics, the Chronicles of Narnia. To date, the Narnia books have sold over 100 million copies and been transformed into three major motion pictures. & $\\dots$ \\\\\n",
       "\\end{tabular}\n"
      ],
      "text/plain": [
       "\u001b[1m1×6 DataFrame\u001b[0m\n",
       "\u001b[1m Row \u001b[0m│\u001b[1m id    \u001b[0m\u001b[1m FirstName \u001b[0m\u001b[1m LastName \u001b[0m\u001b[1m Biography                         \u001b[0m\u001b[1m Publishe\u001b[0m ⋯\n",
       "     │\u001b[90m Int64 \u001b[0m\u001b[90m String15  \u001b[0m\u001b[90m String31 \u001b[0m\u001b[90m String                            \u001b[0m\u001b[90m Int64   \u001b[0m ⋯\n",
       "─────┼──────────────────────────────────────────────────────────────────────────\n",
       "   1 │     1  Pauline    Baynes    CLIVE STAPLES LEWIS (1898-1963) …           ⋯\n",
       "\u001b[36m                                                               2 columns omitted\u001b[0m"
      ]
     },
     "execution_count": 108,
     "metadata": {},
     "output_type": "execute_result"
    }
   ],
   "source": [
    "first(aDf,1)"
   ]
  },
  {
   "cell_type": "code",
   "execution_count": 125,
   "id": "9d9a7d14-e380-4265-a0eb-cbb94bbf2ffd",
   "metadata": {},
   "outputs": [
    {
     "data": {
      "text/html": [
       "<div><div style = \"float: left;\"><span>1×23 DataFrame</span></div><div style = \"clear: both;\"></div></div><div class = \"data-frame\" style = \"overflow-x: scroll;\"><table class = \"data-frame\" style = \"margin-bottom: 6px;\"><thead><tr class = \"header\"><th class = \"rowNumber\" style = \"font-weight: bold; text-align: right;\">Row</th><th style = \"text-align: left;\">Title</th><th style = \"text-align: left;\">Url</th><th style = \"text-align: left;\">Price</th><th style = \"text-align: left;\">ISBN-10</th><th style = \"text-align: left;\">ISBN</th><th style = \"text-align: left;\">Author</th><th style = \"text-align: left;\">Format</th><th style = \"text-align: left;\">Pages</th><th style = \"text-align: left;\">Publisher</th><th style = \"text-align: left;\">Language</th><th style = \"text-align: left;\">Weight</th><th style = \"text-align: left;\">Dimensions</th><th style = \"text-align: left;\">Case pack</th><th style = \"text-align: left;\">Raw description</th><th style = \"text-align: left;\">Availability</th><th style = \"text-align: left;\">Item condition</th><th style = \"text-align: left;\">Breadcrumbs</th><th style = \"text-align: left;\">Images</th><th style = \"text-align: left;\">Scraped at</th><th style = \"text-align: left;\">Uniq id</th><th style = \"text-align: left;\">crap</th><th style = \"text-align: left;\">genre</th><th style = \"text-align: left;\">name</th></tr><tr class = \"subheader headerLastRow\"><th class = \"rowNumber\" style = \"font-weight: bold; text-align: right;\"></th><th title = \"String\" style = \"text-align: left;\">String</th><th title = \"String\" style = \"text-align: left;\">String</th><th title = \"String7\" style = \"text-align: left;\">String7</th><th title = \"String15\" style = \"text-align: left;\">String15</th><th title = \"Int64\" style = \"text-align: left;\">Int64</th><th title = \"String\" style = \"text-align: left;\">String</th><th title = \"String15\" style = \"text-align: left;\">String15</th><th title = \"Int64\" style = \"text-align: left;\">Int64</th><th title = \"String\" style = \"text-align: left;\">String</th><th title = \"String7\" style = \"text-align: left;\">String7</th><th title = \"String7\" style = \"text-align: left;\">String7</th><th title = \"String31\" style = \"text-align: left;\">String31</th><th title = \"Int64\" style = \"text-align: left;\">Int64</th><th title = \"String\" style = \"text-align: left;\">String</th><th title = \"String7\" style = \"text-align: left;\">String7</th><th title = \"String15\" style = \"text-align: left;\">String15</th><th title = \"String\" style = \"text-align: left;\">String</th><th title = \"String\" style = \"text-align: left;\">String</th><th title = \"String31\" style = \"text-align: left;\">String31</th><th title = \"String\" style = \"text-align: left;\">String</th><th title = \"SubString{String}\" style = \"text-align: left;\">SubStrin…</th><th title = \"SubString{String}\" style = \"text-align: left;\">SubStrin…</th><th title = \"SubString{String}\" style = \"text-align: left;\">SubStrin…</th></tr></thead><tbody><tr><td class = \"rowNumber\" style = \"font-weight: bold; text-align: right;\">1</td><td style = \"text-align: left;\">b&apos;Less Than Zero&apos;</td><td style = \"text-align: left;\">https://bulkbookstore.com/less-than-zero-9780060001261</td><td style = \"text-align: left;\">$5.99</td><td style = \"text-align: left;\">0060001267</td><td style = \"text-align: right;\">9780060001261</td><td style = \"text-align: left;\">Stuart J. Murphy</td><td style = \"text-align: left;\">Paperback</td><td style = \"text-align: right;\">40</td><td style = \"text-align: left;\">HarperCollins (August 14, 2003)</td><td style = \"text-align: left;\">English</td><td style = \"text-align: left;\">5.68oz</td><td style = \"text-align: left;\">10&quot; x 8&quot;</td><td style = \"text-align: right;\">100</td><td style = \"text-align: left;\">&lt;article class=&quot;productView-description&quot;&gt;\\n&lt;p class=&quot;productView-title&quot;&gt;Overview&lt;/p&gt;\\n&lt;div class=&quot;productView-description&quot; data-event-type=&quot;product&quot; itemprop=&quot;description&quot;&gt;\\n&lt;p&gt;Perry the Penguin needs 9 clams to buy an ice scooter -- but he&apos;s not very good at saving. As Perry earns, spends, finds, loses, and borrows clams, a simple line graph demonstrates the concept of negative numbers.&lt;/p&gt;&lt;p&gt;This book title, Less Than Zero, ISBN: 9780060001261, by Stuart J. Murphy, Frank Remkiewicz, published by HarperCollins (August 14, 2003) is available in paperback. Our minimum order quantity is 25 copies. All standard bulk book orders &lt;a href=&quot;/shipping-information/&quot; target=&quot;_blank&quot;&gt;ship FREE&lt;/a&gt; in the continental USA and delivered in 4-10 business days. Expedited shipping is also available.&lt;/p&gt;\\n&lt;p&gt;Unlike &lt;a href=&quot;/amazon-bulk-book-orders/&quot; target=&quot;_blank&quot;&gt;Amazon and other retailers&lt;/a&gt; who may also offer Less Than Zero books on their website, we specialize in large quantities and provide personal service, from trusted, experienced, friendly people in Portland, Oregon. We offer a &lt;a href=&quot;/discount-wholesale-bulk-book-prices/&quot; target=&quot;_blank&quot;&gt;Price Match Guarantee&lt;/a&gt;, and &lt;a href=&quot;/quickquote/&quot; target=&quot;_blank&quot;&gt;QuickQuote&lt;/a&gt; form, to make purchasing quick and easy.&lt;/p&gt;\\n&lt;p&gt;Prefer to work with a human being when you order Less Than Zero books in bulk? Our Book Specialists are standing by Monday-Friday 8-5 PST, ready to help!&lt;/p&gt;\\n&lt;/div&gt;\\n&lt;!--\\r\\n    &lt;p class=&quot;productView-title&quot;&gt;Warranty Information&lt;/p&gt;\\r\\n    &lt;div class=&quot;productView-description&quot;&gt;\\r\\n        4.07\\r\\n    &lt;/div&gt; \\r\\n--&gt;\\n&lt;/article&gt;&lt;div class=&quot;productView-description&quot; data-event-type=&quot;product&quot; itemprop=&quot;description&quot;&gt;\\n&lt;p&gt;Perry the Penguin needs 9 clams to buy an ice scooter -- but he&apos;s not very good at saving. As Perry earns, spends, finds, loses, and borrows clams, a simple line graph demonstrates the concept of negative numbers.&lt;/p&gt;&lt;p&gt;This book title, Less Than Zero, ISBN: 9780060001261, by Stuart J. Murphy, Frank Remkiewicz, published by HarperCollins (August 14, 2003) is available in paperback. Our minimum order quantity is 25 copies. All standard bulk book orders &lt;a href=&quot;/shipping-information/&quot; target=&quot;_blank&quot;&gt;ship FREE&lt;/a&gt; in the continental USA and delivered in 4-10 business days. Expedited shipping is also available.&lt;/p&gt;\\n&lt;p&gt;Unlike &lt;a href=&quot;/amazon-bulk-book-orders/&quot; target=&quot;_blank&quot;&gt;Amazon and other retailers&lt;/a&gt; who may also offer Less Than Zero books on their website, we specialize in large quantities and provide personal service, from trusted, experienced, friendly people in Portland, Oregon. We offer a &lt;a href=&quot;/discount-wholesale-bulk-book-prices/&quot; target=&quot;_blank&quot;&gt;Price Match Guarantee&lt;/a&gt;, and &lt;a href=&quot;/quickquote/&quot; target=&quot;_blank&quot;&gt;QuickQuote&lt;/a&gt; form, to make purchasing quick and easy.&lt;/p&gt;\\n&lt;p&gt;Prefer to work with a human being when you order Less Than Zero books in bulk? Our Book Specialists are standing by Monday-Friday 8-5 PST, ready to help!&lt;/p&gt;\\n&lt;/div&gt;</td><td style = \"text-align: left;\">InStock</td><td style = \"text-align: left;\">Condition</td><td style = \"text-align: left;\">Home|Feed|Less Than Zero</td><td style = \"text-align: left;\">https://cdn11.bigcommerce.com/s-igquupw3/images/stencil/1280x1280/products/1607/28616301/9780060001261__04656.1614041323.jpg?c=2</td><td style = \"text-align: left;\">2021-11-27 02:29:46.353664</td><td style = \"text-align: left;\">4ebd0208-8328-5d69-8c44-ec50939c0967</td><td style = \"text-align: left;\">Home</td><td style = \"text-align: left;\">Feed</td><td style = \"text-align: left;\">Less Than Zero</td></tr></tbody></table></div>"
      ],
      "text/latex": [
       "\\begin{tabular}{r|cccc}\n",
       "\t& Title & Url & Price & \\\\\n",
       "\t\\hline\n",
       "\t& String & String & String7 & \\\\\n",
       "\t\\hline\n",
       "\t1 & b'Less Than Zero' & https://bulkbookstore.com/less-than-zero-9780060001261 & \\$5.99 & $\\dots$ \\\\\n",
       "\\end{tabular}\n"
      ],
      "text/plain": [
       "\u001b[1m1×23 DataFrame\u001b[0m\n",
       "\u001b[1m Row \u001b[0m│\u001b[1m Title             \u001b[0m\u001b[1m Url                               \u001b[0m\u001b[1m Price   \u001b[0m\u001b[1m ISBN-10 \u001b[0m ⋯\n",
       "     │\u001b[90m String            \u001b[0m\u001b[90m String                            \u001b[0m\u001b[90m String7 \u001b[0m\u001b[90m String15\u001b[0m ⋯\n",
       "─────┼──────────────────────────────────────────────────────────────────────────\n",
       "   1 │ b'Less Than Zero'  https://bulkbookstore.com/less-t…  $5.99    00600012 ⋯\n",
       "\u001b[36m                                                              20 columns omitted\u001b[0m"
      ]
     },
     "execution_count": 125,
     "metadata": {},
     "output_type": "execute_result"
    }
   ],
   "source": [
    "first(pdf,1)"
   ]
  },
  {
   "cell_type": "code",
   "execution_count": 127,
   "id": "584a666b-882f-4fb0-b114-618d5352bc18",
   "metadata": {},
   "outputs": [],
   "source": [
    "for row in eachrow(iDf)\n",
    "    try\n",
    "        isbns = pdf[findall(==(row.ISBN), pdf.ISBN), :]\n",
    "        for isbn in eachrow(isbns)\n",
    "            author = strip(string(isbn.Author))\n",
    "            aids = aDf[findall(==(author), aDf.author), :].id\n",
    "            for aid in eachrow(aids)\n",
    "                push!(book_authors,[row.id aid])  \n",
    "            end\n",
    "        end\n",
    "    catch e\n",
    "        println(e)\n",
    "        println(row)\n",
    "        continue\n",
    "    end   \n",
    "    # fn = aDf[only(findall(==(row.AuthorId), aDf.id)), :].FirstName \n",
    "    # ln = aDf[only(findall(==(row.AuthorId), aDf.id)), :].LastName \n",
    "    # a = fn * ' ' * ln\n",
    "    # push!(nSet,a)\n",
    "end"
   ]
  },
  {
   "cell_type": "code",
   "execution_count": 128,
   "id": "ce2cbc6c-67f5-4016-a6cd-c5ab676b4553",
   "metadata": {},
   "outputs": [],
   "source": [
    "book_authors = unique(book_authors);"
   ]
  },
  {
   "cell_type": "code",
   "execution_count": 129,
   "id": "1bec10ca-9ed3-4226-b2fd-39259d4c136b",
   "metadata": {},
   "outputs": [
    {
     "data": {
      "text/plain": [
       "574"
      ]
     },
     "execution_count": 129,
     "metadata": {},
     "output_type": "execute_result"
    }
   ],
   "source": [
    "nrow(book_authors)"
   ]
  },
  {
   "cell_type": "code",
   "execution_count": 130,
   "id": "12afdc1f-718f-4286-96e8-f322f80d4012",
   "metadata": {},
   "outputs": [
    {
     "data": {
      "text/plain": [
       "186"
      ]
     },
     "execution_count": 130,
     "metadata": {},
     "output_type": "execute_result"
    }
   ],
   "source": [
    "nrow(aDf)"
   ]
  },
  {
   "cell_type": "code",
   "execution_count": 116,
   "id": "292e672f-e1e6-45fa-a7f6-9c6a96c44180",
   "metadata": {},
   "outputs": [
    {
     "data": {
      "text/plain": [
       "\".\\\\book_authors.csv\""
      ]
     },
     "execution_count": 116,
     "metadata": {},
     "output_type": "execute_result"
    }
   ],
   "source": [
    "CSV.write(\".\\\\book_authors.csv\", book_authors)"
   ]
  },
  {
   "cell_type": "code",
   "execution_count": null,
   "id": "1b0d5e9c-7d79-4354-9d5c-fea8be3bd340",
   "metadata": {},
   "outputs": [],
   "source": [
    "df = CSV.read(read(\"iBooks.csv\"), DataFrame; header=[:id, :ISBN, :name, :Price, :rating, :GenreId, :PublisherId, :year,:copies, :description]);"
   ]
  },
  {
   "cell_type": "code",
   "execution_count": null,
   "id": "3d95fe90-906b-4807-bd62-ae95c36370b0",
   "metadata": {},
   "outputs": [],
   "source": [
    "df.PublisherId = [StatsBase.sample([1,2,3]) for _ in range(start=1, stop=nrow(df))];"
   ]
  },
  {
   "cell_type": "code",
   "execution_count": null,
   "id": "c5fd5743-daf8-462c-b1fa-65b8cce94d7d",
   "metadata": {},
   "outputs": [],
   "source": [
    "CSV.write(\".\\\\books.csv\", df[:,[:ISBN, :name, :Price, :rating, :GenreId, :PublisherId, :year,:copies, :description]]; openquotechar='\"', closequotechar='\"', escapechar='\"', quotestrings=true)"
   ]
  },
  {
   "cell_type": "code",
   "execution_count": null,
   "id": "c14db79a-176b-4db3-8a01-23d94df3277a",
   "metadata": {},
   "outputs": [],
   "source": [
    "ba = CSV.read(read(\"book_authors.csv\"), DataFrame);"
   ]
  },
  {
   "cell_type": "code",
   "execution_count": null,
   "id": "db15a1af-1881-4176-a849-d462dd9b68a4",
   "metadata": {},
   "outputs": [],
   "source": [
    "first(ba,5)"
   ]
  },
  {
   "cell_type": "code",
   "execution_count": null,
   "id": "0bbcdb9a-bd4e-4e4f-b4c3-f0118e2ea1bf",
   "metadata": {},
   "outputs": [],
   "source": [
    "aDf = CSV.read(read(\"iAuthors.csv\"), DataFrame; header=[\"id\", \"FirstName\", \"LastName\", \"Biography\", \"PublisherId\"]);"
   ]
  },
  {
   "cell_type": "code",
   "execution_count": null,
   "id": "02942290-c4ff-4e0d-a3c4-e45566f932d8",
   "metadata": {},
   "outputs": [],
   "source": [
    "#df = CSV.read(read(\"iBooks.csv\"), DataFrame; header=[:id, :ISBN, :name, :Price, :rating, :GenreId, :PublisherId, :year,:copies, :description]);\n",
    "nrow(aDf)"
   ]
  },
  {
   "cell_type": "code",
   "execution_count": null,
   "id": "ff42ae92-2107-4019-bcf2-1edb99a4d0ac",
   "metadata": {},
   "outputs": [],
   "source": [
    "aDf = unique(aDf, :id);"
   ]
  },
  {
   "cell_type": "code",
   "execution_count": null,
   "id": "6c941891-b18f-4974-a344-57f229c14dfa",
   "metadata": {},
   "outputs": [],
   "source": [
    "nrow(aDf)"
   ]
  },
  {
   "cell_type": "code",
   "execution_count": null,
   "id": "64079492-f152-4436-936b-dde9a63f54bd",
   "metadata": {},
   "outputs": [],
   "source": [
    "first(aDf,5)"
   ]
  },
  {
   "cell_type": "code",
   "execution_count": null,
   "id": "393425e7-3a56-455f-90c8-5d723bf05533",
   "metadata": {
    "jupyter": {
     "source_hidden": true
    },
    "tags": []
   },
   "outputs": [],
   "source": [
    "first(df,5)"
   ]
  },
  {
   "cell_type": "code",
   "execution_count": null,
   "id": "4378c20a-9bfe-4c84-83c9-bfadf62e6b53",
   "metadata": {},
   "outputs": [],
   "source": [
    "pubI = Int64[]"
   ]
  },
  {
   "cell_type": "code",
   "execution_count": null,
   "id": "96d92d84-2996-490e-b112-494bbda5c922",
   "metadata": {},
   "outputs": [],
   "source": [
    "for row in eachrow(ba)\n",
    "    # print(row.AuthorId)\n",
    "    author = aDf[only(findall(==(row.AuthorId), aDf.id)), :]\n",
    "    book = df[only(findall(==(row.BookId), df.id)), :]\n",
    "    # push!(pubI, book.PublisherId)\n",
    "    aDf[only(findall(==(row.AuthorId), aDf.id)), :].PublisherId = book.PublisherId\n",
    "end     "
   ]
  },
  {
   "cell_type": "code",
   "execution_count": null,
   "id": "7569a82f-0546-457c-8818-ff90c5fe5033",
   "metadata": {},
   "outputs": [],
   "source": []
  },
  {
   "cell_type": "code",
   "execution_count": null,
   "id": "174c7c2a-f56a-4de4-b17d-3b56f00443aa",
   "metadata": {},
   "outputs": [],
   "source": [
    "CSV.write(\".\\\\authors.csv\", aDf[:,[:id, :FirstName, :LastName, :Biography, :PublisherId]]; openquotechar='\"', closequotechar='\"', escapechar='\"', quotestrings=true)"
   ]
  },
  {
   "cell_type": "code",
   "execution_count": null,
   "id": "b82202b8-befd-487b-b03c-3cf80c3d67d7",
   "metadata": {},
   "outputs": [],
   "source": [
    "df.PublisherId = [StatsBase.sample([1,2,3]) for _ in range(start=1, stop=nrow(df))];"
   ]
  },
  {
   "cell_type": "code",
   "execution_count": null,
   "id": "5941d6c3-091e-4222-acf7-1a22acbdca65",
   "metadata": {},
   "outputs": [],
   "source": []
  }
 ],
 "metadata": {
  "kernelspec": {
   "display_name": "Julia 1.8.5",
   "language": "julia",
   "name": "julia-1.8"
  },
  "language_info": {
   "file_extension": ".jl",
   "mimetype": "application/julia",
   "name": "julia",
   "version": "1.8.5"
  }
 },
 "nbformat": 4,
 "nbformat_minor": 5
}
