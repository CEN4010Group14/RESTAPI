{
 "cells": [
  {
   "cell_type": "code",
   "execution_count": null,
   "id": "20ee093d-41b6-4944-ac4d-c43269ebc67e",
   "metadata": {
    "pycharm": {
     "name": "#%%\n"
    }
   },
   "outputs": [],
   "source": [
    "] add CSV"
   ]
  },
  {
   "cell_type": "code",
   "execution_count": null,
   "id": "9db17cc2-4d7b-486c-a4e0-98e29e57b9c5",
   "metadata": {
    "pycharm": {
     "name": "#%%\n"
    }
   },
   "outputs": [],
   "source": [
    "] add DataFrames"
   ]
  },
  {
   "cell_type": "code",
   "execution_count": null,
   "id": "9dfeb1f3-fbf3-4108-a7a2-87a3702e4e2a",
   "metadata": {
    "pycharm": {
     "name": "#%%\n"
    }
   },
   "outputs": [],
   "source": [
    "] add DataFramesMeta"
   ]
  },
  {
   "cell_type": "code",
   "execution_count": null,
   "id": "4bf6d68c-e044-4779-8b06-71c65c1e1d3e",
   "metadata": {
    "pycharm": {
     "name": "#%%\n"
    }
   },
   "outputs": [],
   "source": [
    "] add WebDriver"
   ]
  },
  {
   "cell_type": "code",
   "execution_count": null,
   "id": "36088e6b-7d70-4004-a2b6-4973180ddea0",
   "metadata": {
    "pycharm": {
     "name": "#%%\n"
    }
   },
   "outputs": [],
   "source": [
    "using CSV\n",
    "using DataFrames\n",
    "using DataFramesMeta\n",
    "using ODBC"
   ]
  },
  {
   "cell_type": "code",
   "execution_count": null,
   "id": "b9494461-71c7-4b72-ae03-6315a467578f",
   "metadata": {
    "pycharm": {
     "name": "#%%\n"
    }
   },
   "outputs": [],
   "source": [
    "] add ODBC"
   ]
  },
  {
   "cell_type": "code",
   "execution_count": null,
   "id": "885d5bee-1cac-4204-bdd5-f810fed5cbe3",
   "metadata": {
    "pycharm": {
     "name": "#%%\n"
    }
   },
   "outputs": [],
   "source": [
    "bs = \"bulk_bookstore_dataset.csv\""
   ]
  },
  {
   "cell_type": "code",
   "execution_count": null,
   "id": "a7314550-97bb-44aa-96cd-c9328d154640",
   "metadata": {
    "pycharm": {
     "name": "#%%\n"
    }
   },
   "outputs": [],
   "source": [
    "df = CSV.read(read(bs), DataFrame);"
   ]
  },
  {
   "cell_type": "code",
   "execution_count": null,
   "id": "e916f3f3-57e4-4e21-bb4a-8831b71d5988",
   "metadata": {
    "pycharm": {
     "name": "#%%\n"
    }
   },
   "outputs": [],
   "source": [
    "foreach(println, names(df))"
   ]
  },
  {
   "cell_type": "code",
   "execution_count": null,
   "id": "141d7f17-af1b-4eac-ac22-7de32ec76809",
   "metadata": {
    "pycharm": {
     "name": "#%%\n"
    },
    "tags": []
   },
   "outputs": [],
   "source": [
    "df = @chain df begin\n",
    "    @rtransform $[:crap, :genre, :name] = begin\n",
    "        x = split(:Breadcrumbs, \"|\")\n",
    "        get.(Ref(x), 1:3, missing)\n",
    "    end\n",
    "end"
   ]
  },
  {
   "cell_type": "code",
   "execution_count": null,
   "id": "bf84b10d",
   "metadata": {
    "collapsed": false,
    "jupyter": {
     "outputs_hidden": false
    },
    "pycharm": {
     "name": "#%%\n"
    }
   },
   "outputs": [],
   "source": [
    "genresValues = unique(df[:,:genre]);"
   ]
  },
  {
   "cell_type": "code",
   "execution_count": null,
   "id": "9dabd5ba",
   "metadata": {
    "collapsed": false,
    "jupyter": {
     "outputs_hidden": false
    },
    "pycharm": {
     "name": "#%%\n"
    }
   },
   "outputs": [],
   "source": [
    "genres = DataFrame()\n",
    "genres.genre=genresValues;"
   ]
  },
  {
   "cell_type": "code",
   "execution_count": null,
   "id": "da7a289c",
   "metadata": {
    "collapsed": false,
    "jupyter": {
     "outputs_hidden": false
    },
    "pycharm": {
     "name": "#%%\n"
    }
   },
   "outputs": [],
   "source": [
    "df.GenreId = [rownumber(genres[only(findall(==(row.genre), genres.genre)), :]) for row in eachrow(df)];"
   ]
  },
  {
   "cell_type": "code",
   "execution_count": null,
   "id": "b14c01d1",
   "metadata": {
    "collapsed": false,
    "jupyter": {
     "outputs_hidden": false
    },
    "pycharm": {
     "name": "#%%\n"
    }
   },
   "outputs": [],
   "source": [
    "CSV.write(\".\\\\genres.csv\", genres ; openquotechar='\"', closequotechar='\"', escapechar='\"', quotestrings=true)"
   ]
  },
  {
   "cell_type": "code",
   "execution_count": null,
   "id": "b56eff5d",
   "metadata": {
    "collapsed": false,
    "jupyter": {
     "outputs_hidden": false
    },
    "pycharm": {
     "name": "#%%\n"
    }
   },
   "outputs": [],
   "source": [
    "foreach(println, names(df))"
   ]
  },
  {
   "cell_type": "code",
   "execution_count": null,
   "id": "c75c2ea6",
   "metadata": {
    "collapsed": false,
    "jupyter": {
     "outputs_hidden": false
    },
    "pycharm": {
     "name": "#%%\n"
    }
   },
   "outputs": [],
   "source": [
    "df.rating = rand(1:5, nrow(df));"
   ]
  },
  {
   "cell_type": "code",
   "execution_count": null,
   "id": "221f0af8",
   "metadata": {
    "collapsed": false,
    "jupyter": {
     "outputs_hidden": false
    },
    "pycharm": {
     "name": "#%%\n"
    }
   },
   "outputs": [],
   "source": [
    "df.copies = rand(1000:1000000,nrow(df));"
   ]
  },
  {
   "cell_type": "code",
   "execution_count": null,
   "id": "952a8fde",
   "metadata": {
    "collapsed": false,
    "jupyter": {
     "outputs_hidden": false
    },
    "pycharm": {
     "name": "#%%\n"
    }
   },
   "outputs": [],
   "source": [
    "foreach(println, names(df))"
   ]
  },
  {
   "cell_type": "code",
   "execution_count": null,
   "id": "37e56f78",
   "metadata": {
    "collapsed": false,
    "jupyter": {
     "outputs_hidden": false
    },
    "pycharm": {
     "name": "#%%\n"
    }
   },
   "outputs": [],
   "source": [
    "# df.pub = [x.match for x in match.(r\"^(\\w+)\", df.Publisher)]\n",
    "df.PublisherId.=1;"
   ]
  },
  {
   "cell_type": "code",
   "execution_count": null,
   "id": "9daa0974",
   "metadata": {
    "collapsed": false,
    "jupyter": {
     "outputs_hidden": false
    },
    "pycharm": {
     "name": "#%%\n"
    }
   },
   "outputs": [],
   "source": [
    "df.year = [parse(Int64,x.match) for x in match.(r\"(\\d{4})\", df.Publisher)];"
   ]
  },
  {
   "cell_type": "code",
   "execution_count": null,
   "id": "b0c9b7e3",
   "metadata": {
    "collapsed": false,
    "jupyter": {
     "outputs_hidden": false
    },
    "pycharm": {
     "name": "#%%\n"
    }
   },
   "outputs": [],
   "source": [
    "df.name[1:5]"
   ]
  },
  {
   "cell_type": "code",
   "execution_count": null,
   "id": "6bfdb511",
   "metadata": {
    "collapsed": false,
    "jupyter": {
     "outputs_hidden": false
    },
    "pycharm": {
     "name": "#%%\n"
    }
   },
   "outputs": [],
   "source": [
    "CSV.write(\".\\\\bookIBSN.csv\", df[:,[:ISBN, :name, :Price, :rating, :AuthorId, :GenreId, :PublisherId, :year,:copies, :des]]; openquotechar='\"', closequotechar='\"', escapechar='\"', quotestrings=true)"
   ]
  },
  {
   "cell_type": "code",
   "execution_count": null,
   "id": "e81aebae",
   "metadata": {
    "collapsed": false,
    "jupyter": {
     "outputs_hidden": false
    },
    "pycharm": {
     "name": "#%%\n"
    }
   },
   "outputs": [],
   "source": [
    "odf = CSV.read(read(\"out.csv\"), DataFrame);"
   ]
  },
  {
   "cell_type": "code",
   "execution_count": null,
   "id": "78c0329e",
   "metadata": {
    "collapsed": false,
    "jupyter": {
     "outputs_hidden": false
    },
    "pycharm": {
     "name": "#%%\n"
    }
   },
   "outputs": [],
   "source": [
    "odf"
   ]
  },
  {
   "cell_type": "code",
   "execution_count": null,
   "id": "7f919330",
   "metadata": {
    "collapsed": false,
    "jupyter": {
     "outputs_hidden": false
    },
    "pycharm": {
     "name": "#%%\n"
    }
   },
   "outputs": [],
   "source": [
    "df = CSV.read(read(\"bookIBSN.csv\"), DataFrame);"
   ]
  },
  {
   "cell_type": "code",
   "execution_count": null,
   "id": "f15b85f7",
   "metadata": {
    "collapsed": false,
    "jupyter": {
     "outputs_hidden": false
    },
    "pycharm": {
     "name": "#%%\n"
    }
   },
   "outputs": [],
   "source": [
    "df"
   ]
  },
  {
   "cell_type": "code",
   "execution_count": null,
   "id": "4a3e0dcb",
   "metadata": {
    "collapsed": false,
    "jupyter": {
     "outputs_hidden": false
    },
    "pycharm": {
     "name": "#%%\n"
    }
   },
   "outputs": [],
   "source": [
    "df.description = odf[:,\"description\"]"
   ]
  },
  {
   "cell_type": "code",
   "execution_count": null,
   "id": "f0c47910",
   "metadata": {
    "collapsed": false,
    "jupyter": {
     "outputs_hidden": false
    },
    "pycharm": {
     "name": "#%%\n"
    }
   },
   "outputs": [],
   "source": [
    "# rename!(df,:descrition => :description)"
   ]
  },
  {
   "cell_type": "code",
   "execution_count": null,
   "id": "8cc956d8",
   "metadata": {
    "collapsed": false,
    "jupyter": {
     "outputs_hidden": false
    },
    "pycharm": {
     "name": "#%%\n"
    }
   },
   "outputs": [],
   "source": [
    "df = select!(df, Not([:Url]))"
   ]
  },
  {
   "cell_type": "code",
   "execution_count": null,
   "id": "a9fa5086",
   "metadata": {
    "collapsed": false,
    "jupyter": {
     "outputs_hidden": false
    },
    "pycharm": {
     "name": "#%%\n"
    }
   },
   "outputs": [],
   "source": [
    "df"
   ]
  },
  {
   "cell_type": "code",
   "execution_count": null,
   "id": "866d74c0",
   "metadata": {
    "collapsed": false,
    "jupyter": {
     "outputs_hidden": false
    },
    "pycharm": {
     "name": "#%%\n"
    }
   },
   "outputs": [],
   "source": [
    "noMissing = df[completecases(df),:]"
   ]
  },
  {
   "cell_type": "code",
   "execution_count": null,
   "id": "74d8cf0e",
   "metadata": {
    "collapsed": false,
    "jupyter": {
     "outputs_hidden": false
    },
    "pycharm": {
     "name": "#%%\n"
    }
   },
   "outputs": [],
   "source": [
    "nrow(noMissing)"
   ]
  },
  {
   "cell_type": "code",
   "execution_count": null,
   "id": "8bf14e98",
   "metadata": {
    "collapsed": false,
    "jupyter": {
     "outputs_hidden": false
    },
    "pycharm": {
     "name": "#%%\n"
    }
   },
   "outputs": [],
   "source": [
    "disallowmissing!(noMissing)"
   ]
  },
  {
   "cell_type": "code",
   "execution_count": null,
   "id": "c8f34907",
   "metadata": {
    "collapsed": false,
    "jupyter": {
     "outputs_hidden": false
    },
    "pycharm": {
     "name": "#%%\n"
    }
   },
   "outputs": [],
   "source": [
    "CSV.write(\".\\\\bookIBSN.csv\", noMissing);"
   ]
  },
  {
   "cell_type": "code",
   "execution_count": null,
   "id": "4b2029c9",
   "metadata": {
    "collapsed": false,
    "jupyter": {
     "outputs_hidden": false
    },
    "pycharm": {
     "name": "#%%\n"
    }
   },
   "outputs": [],
   "source": [
    "df = CSV.read(read(\"bookIBSN.csv\"), DataFrame);"
   ]
  },
  {
   "cell_type": "code",
   "execution_count": null,
   "id": "4e6a3aa0",
   "metadata": {
    "collapsed": false,
    "jupyter": {
     "outputs_hidden": false
    },
    "pycharm": {
     "name": "#%%\n"
    }
   },
   "outputs": [],
   "source": [
    "df[1,:]"
   ]
  },
  {
   "cell_type": "code",
   "execution_count": null,
   "id": "07fb3f57",
   "metadata": {
    "collapsed": false,
    "jupyter": {
     "outputs_hidden": false
    },
    "pycharm": {
     "name": "#%%\n"
    }
   },
   "outputs": [],
   "source": [
    "df.pub"
   ]
  },
  {
   "cell_type": "code",
   "execution_count": null,
   "id": "3b9e52f2",
   "metadata": {
    "collapsed": false,
    "jupyter": {
     "outputs_hidden": false
    },
    "pycharm": {
     "name": "#%%\n"
    }
   },
   "outputs": [],
   "source": [
    "df.ISBN = [SubString(s,3,15) for s in df.ISBN]"
   ]
  },
  {
   "cell_type": "code",
   "execution_count": null,
   "id": "d05399b5",
   "metadata": {
    "collapsed": false,
    "jupyter": {
     "outputs_hidden": false
    },
    "pycharm": {
     "name": "#%%\n"
    }
   },
   "outputs": [],
   "source": [
    "df.ISBN = [parse(Int64,s) for s in df.ISBN]"
   ]
  },
  {
   "cell_type": "code",
   "execution_count": null,
   "id": "91c84d20",
   "metadata": {
    "collapsed": false,
    "jupyter": {
     "outputs_hidden": false
    },
    "pycharm": {
     "name": "#%%\n"
    }
   },
   "outputs": [],
   "source": [
    "aDf"
   ]
  },
  {
   "cell_type": "code",
   "execution_count": null,
   "id": "d7d635a4",
   "metadata": {
    "collapsed": false,
    "jupyter": {
     "outputs_hidden": false
    },
    "pycharm": {
     "name": "#%%\n"
    }
   },
   "outputs": [],
   "source": [
    "df = filter(:AuthorId => i -> (i ∈ aDf.id), df)"
   ]
  },
  {
   "cell_type": "code",
   "execution_count": null,
   "id": "6dfd29b4",
   "metadata": {
    "collapsed": false,
    "jupyter": {
     "outputs_hidden": false
    },
    "pycharm": {
     "name": "#%%\n"
    }
   },
   "outputs": [],
   "source": [
    "df"
   ]
  },
  {
   "cell_type": "code",
   "execution_count": null,
   "id": "a7c55874",
   "metadata": {
    "collapsed": false,
    "jupyter": {
     "outputs_hidden": false
    },
    "pycharm": {
     "name": "#%%\n"
    }
   },
   "outputs": [],
   "source": [
    "CSV.write(\".\\\\booksQuotes.csv\", df ; openquotechar='\"', closequotechar='\"', escapechar='\"', quotestrings=true)"
   ]
  },
  {
   "cell_type": "code",
   "execution_count": null,
   "id": "7d2dd76c",
   "metadata": {
    "collapsed": false,
    "jupyter": {
     "outputs_hidden": false
    },
    "pycharm": {
     "name": "#%%\n"
    }
   },
   "outputs": [],
   "source": [
    "df.Price = [parse(Float64, SubString(s,2)) for s in df.Price]"
   ]
  },
  {
   "cell_type": "code",
   "execution_count": null,
   "id": "e8d83852",
   "metadata": {
    "collapsed": false,
    "jupyter": {
     "outputs_hidden": false
    },
    "pycharm": {
     "name": "#%%\n"
    }
   },
   "outputs": [],
   "source": []
  },
  {
   "cell_type": "code",
   "execution_count": null,
   "id": "95128ee9",
   "metadata": {
    "collapsed": false,
    "jupyter": {
     "outputs_hidden": false
    },
    "pycharm": {
     "name": "#%%\n"
    }
   },
   "outputs": [],
   "source": [
    "nSet = Set()"
   ]
  },
  {
   "cell_type": "code",
   "execution_count": null,
   "id": "353af18a",
   "metadata": {
    "collapsed": false,
    "jupyter": {
     "outputs_hidden": false
    },
    "pycharm": {
     "name": "#%%\n"
    }
   },
   "outputs": [],
   "source": [
    "for a in df.Author\n",
    "    twoNames = split(a,\",\")\n",
    "    if length(twoNames) == 2\n",
    "        push!(nSet,string(twoNames[1]))\n",
    "        push!(nSet,string(twoNames[2]))\n",
    "    else\n",
    "        push!(nSet,a)\n",
    "    end\n",
    "end"
   ]
  },
  {
   "cell_type": "code",
   "execution_count": null,
   "id": "5c9452ea",
   "metadata": {
    "collapsed": false,
    "jupyter": {
     "outputs_hidden": false
    },
    "pycharm": {
     "name": "#%%\n"
    }
   },
   "outputs": [],
   "source": [
    "df.AuthorId .= zero(nrow(df))"
   ]
  },
  {
   "cell_type": "code",
   "execution_count": null,
   "id": "776b0401",
   "metadata": {
    "collapsed": false,
    "jupyter": {
     "outputs_hidden": false
    },
    "pycharm": {
     "name": "#%%\n"
    }
   },
   "outputs": [],
   "source": [
    "length(nSet)"
   ]
  },
  {
   "cell_type": "code",
   "execution_count": null,
   "id": "215ba3f5",
   "metadata": {
    "collapsed": false,
    "jupyter": {
     "outputs_hidden": false
    },
    "pycharm": {
     "name": "#%%\n"
    }
   },
   "outputs": [],
   "source": [
    "for (i, val) in enumerate(nSet)\n",
    "    # println(nrow(filter(:Author => n -> n == val, df)))\n",
    "    # filter(:Author => n -> n == val, df).AuthorId .= i\n",
    "    # df[:AuthorId, filter(:Author => n -> n == val, df)] .= i\n",
    "    @. df.AuthorId = ifelse(df.Author == val, i, df.AuthorId)\n",
    "    # println(filter(:Author => n -> n == val, df).AuthorId)\n",
    "    # println(i)\n",
    "end"
   ]
  },
  {
   "cell_type": "code",
   "execution_count": null,
   "id": "a5b50d76",
   "metadata": {
    "collapsed": false,
    "jupyter": {
     "outputs_hidden": false
    },
    "pycharm": {
     "name": "#%%\n"
    }
   },
   "outputs": [],
   "source": [
    "df.AuthorId"
   ]
  },
  {
   "cell_type": "code",
   "execution_count": null,
   "id": "588f723e",
   "metadata": {
    "collapsed": false,
    "jupyter": {
     "outputs_hidden": false
    },
    "pycharm": {
     "name": "#%%\n"
    }
   },
   "outputs": [],
   "source": [
    "df = df[completecases(df),:]\n",
    "disallowmissing!(df)"
   ]
  },
  {
   "cell_type": "code",
   "execution_count": null,
   "id": "0a5f53be",
   "metadata": {
    "collapsed": false,
    "jupyter": {
     "outputs_hidden": false
    },
    "pycharm": {
     "name": "#%%\n"
    }
   },
   "outputs": [],
   "source": [
    "nrow(df)"
   ]
  },
  {
   "cell_type": "code",
   "execution_count": null,
   "id": "02aa9abd",
   "metadata": {
    "collapsed": false,
    "jupyter": {
     "outputs_hidden": false
    },
    "pycharm": {
     "name": "#%%\n"
    }
   },
   "outputs": [],
   "source": [
    "length(nSet)"
   ]
  },
  {
   "cell_type": "code",
   "execution_count": null,
   "id": "a2422275",
   "metadata": {
    "collapsed": false,
    "jupyter": {
     "outputs_hidden": false
    },
    "pycharm": {
     "name": "#%%\n"
    }
   },
   "outputs": [],
   "source": [
    "aDf = DataFrame()"
   ]
  },
  {
   "cell_type": "code",
   "execution_count": null,
   "id": "2318dd0c",
   "metadata": {
    "collapsed": false,
    "jupyter": {
     "outputs_hidden": false
    },
    "pycharm": {
     "name": "#%%\n"
    }
   },
   "outputs": [],
   "source": [
    "aDf.id = [i for (i, val) in enumerate(nSet)]\n",
    "    \n",
    "    "
   ]
  },
  {
   "cell_type": "code",
   "execution_count": null,
   "id": "a80f5f50",
   "metadata": {
    "collapsed": false,
    "jupyter": {
     "outputs_hidden": false
    },
    "pycharm": {
     "name": "#%%\n"
    }
   },
   "outputs": [],
   "source": [
    "function parseFirstName(s::String)::String\n",
    "    names = split(s, \" \")\n",
    "    if length(names) == 3\n",
    "        return names[1] * \" \" * names[2]\n",
    "    end\n",
    "    return names[1]\n",
    "end\n",
    "    "
   ]
  },
  {
   "cell_type": "code",
   "execution_count": null,
   "id": "08983300",
   "metadata": {
    "collapsed": false,
    "jupyter": {
     "outputs_hidden": false
    },
    "pycharm": {
     "name": "#%%\n"
    }
   },
   "outputs": [],
   "source": [
    "function parseLastName(s::String)::String\n",
    "    names = split(s, \" \")\n",
    "    if length(names) == 3\n",
    "        return names[3]\n",
    "    end\n",
    "    if length(names) < 2\n",
    "        println(s)\n",
    "        return \"\"\n",
    "    end\n",
    "    return names[2]\n",
    "end"
   ]
  },
  {
   "cell_type": "code",
   "execution_count": null,
   "id": "e6850876",
   "metadata": {
    "collapsed": false,
    "jupyter": {
     "outputs_hidden": false
    },
    "pycharm": {
     "name": "#%%\n"
    }
   },
   "outputs": [],
   "source": [
    "aDf.FirstName = [strip(parseFirstName(s)) for s in nSet]"
   ]
  },
  {
   "cell_type": "code",
   "execution_count": null,
   "id": "eec67061",
   "metadata": {
    "collapsed": false,
    "jupyter": {
     "outputs_hidden": false
    },
    "pycharm": {
     "name": "#%%\n"
    }
   },
   "outputs": [],
   "source": [
    "aDf.LastName =  [strip(parseLastName(s)) for s in nSet]"
   ]
  },
  {
   "cell_type": "code",
   "execution_count": null,
   "id": "37805638",
   "metadata": {
    "collapsed": false,
    "jupyter": {
     "outputs_hidden": false
    },
    "pycharm": {
     "name": "#%%\n"
    }
   },
   "outputs": [],
   "source": [
    "aDf.Author = [strip(s) for s in nSet]"
   ]
  },
  {
   "cell_type": "code",
   "execution_count": null,
   "id": "76da8845",
   "metadata": {
    "collapsed": false,
    "jupyter": {
     "outputs_hidden": false
    },
    "pycharm": {
     "name": "#%%\n"
    }
   },
   "outputs": [],
   "source": [
    "afiles = readdir(\"./au\", join=true)"
   ]
  },
  {
   "cell_type": "code",
   "execution_count": null,
   "id": "33efba5f",
   "metadata": {
    "collapsed": false,
    "jupyter": {
     "outputs_hidden": false
    },
    "pycharm": {
     "name": "#%%\n"
    }
   },
   "outputs": [],
   "source": [
    "adf = CSV.read(read(afiles[1]), DataFrame)\n",
    "for file in afiles[2:end]\n",
    "    adf =  vcat(adf, CSV.read(read(file), DataFrame));\n",
    "end    "
   ]
  },
  {
   "cell_type": "code",
   "execution_count": null,
   "id": "c2be3ae2",
   "metadata": {
    "collapsed": false,
    "jupyter": {
     "outputs_hidden": false
    },
    "pycharm": {
     "name": "#%%\n"
    }
   },
   "outputs": [],
   "source": [
    "adf = adf[completecases(adf),:] "
   ]
  },
  {
   "cell_type": "code",
   "execution_count": null,
   "id": "2f1f767f",
   "metadata": {
    "collapsed": false,
    "jupyter": {
     "outputs_hidden": false
    },
    "pycharm": {
     "name": "#%%\n"
    }
   },
   "outputs": [],
   "source": [
    "nrow(adf)"
   ]
  },
  {
   "cell_type": "code",
   "execution_count": null,
   "id": "d62a59b2",
   "metadata": {
    "collapsed": false,
    "jupyter": {
     "outputs_hidden": false
    },
    "pycharm": {
     "name": "#%%\n"
    }
   },
   "outputs": [],
   "source": [
    "adf.ISBN = string.(adf.ISBN)"
   ]
  },
  {
   "cell_type": "code",
   "execution_count": null,
   "id": "f08e0860",
   "metadata": {
    "collapsed": false,
    "jupyter": {
     "outputs_hidden": false
    },
    "pycharm": {
     "name": "#%%\n"
    }
   },
   "outputs": [],
   "source": [
    "adf.ISBN = [parse(Int64,s) for s in adf.ISBN]"
   ]
  },
  {
   "cell_type": "code",
   "execution_count": null,
   "id": "b021e6f1",
   "metadata": {
    "collapsed": false,
    "jupyter": {
     "outputs_hidden": false
    },
    "pycharm": {
     "name": "#%%\n"
    }
   },
   "outputs": [],
   "source": [
    "adf = unique(adf, :ISBN);"
   ]
  },
  {
   "cell_type": "code",
   "execution_count": null,
   "id": "1fb05c27",
   "metadata": {
    "collapsed": false,
    "jupyter": {
     "outputs_hidden": false
    },
    "pycharm": {
     "name": "#%%\n"
    }
   },
   "outputs": [],
   "source": [
    "df = CSV.read(read(\"bookIBSN.csv\"), DataFrame);"
   ]
  },
  {
   "cell_type": "code",
   "execution_count": null,
   "id": "db22fd91",
   "metadata": {
    "collapsed": false,
    "jupyter": {
     "outputs_hidden": false
    },
    "pycharm": {
     "name": "#%%\n"
    }
   },
   "outputs": [],
   "source": [
    "nrow(adf)"
   ]
  },
  {
   "cell_type": "code",
   "execution_count": null,
   "id": "b5ac448a",
   "metadata": {
    "collapsed": false,
    "jupyter": {
     "outputs_hidden": false
    },
    "pycharm": {
     "name": "#%%\n"
    }
   },
   "outputs": [],
   "source": [
    "nrow(df)"
   ]
  },
  {
   "cell_type": "code",
   "execution_count": null,
   "id": "2379074e",
   "metadata": {
    "collapsed": false,
    "jupyter": {
     "outputs_hidden": false
    },
    "pycharm": {
     "name": "#%%\n"
    }
   },
   "outputs": [],
   "source": [
    "df.ISBN = [parse(Int64,s) for s in df.ISBN]"
   ]
  },
  {
   "cell_type": "code",
   "execution_count": null,
   "id": "93e03c29",
   "metadata": {
    "collapsed": false,
    "jupyter": {
     "outputs_hidden": false
    },
    "pycharm": {
     "name": "#%%\n"
    }
   },
   "outputs": [],
   "source": [
    "fdf = filter(:ISBN => i -> (i ∈ adf.ISBN), df)"
   ]
  },
  {
   "cell_type": "code",
   "execution_count": null,
   "id": "9219946f",
   "metadata": {
    "collapsed": false,
    "jupyter": {
     "outputs_hidden": false
    },
    "pycharm": {
     "name": "#%%\n"
    }
   },
   "outputs": [],
   "source": [
    "authors = [r.Author for r in eachrow(df) if r.ISBN in adf.ISBN]"
   ]
  },
  {
   "cell_type": "code",
   "execution_count": null,
   "id": "f72acf91",
   "metadata": {
    "collapsed": false,
    "jupyter": {
     "outputs_hidden": false
    },
    "pycharm": {
     "name": "#%%\n"
    }
   },
   "outputs": [],
   "source": [
    "aset = Set(authors)"
   ]
  },
  {
   "cell_type": "code",
   "execution_count": null,
   "id": "6954fe09",
   "metadata": {
    "collapsed": false,
    "jupyter": {
     "outputs_hidden": false
    },
    "pycharm": {
     "name": "#%%\n"
    }
   },
   "outputs": [],
   "source": []
  },
  {
   "cell_type": "code",
   "execution_count": null,
   "id": "9aa1c26f",
   "metadata": {
    "collapsed": false,
    "jupyter": {
     "outputs_hidden": false
    },
    "pycharm": {
     "name": "#%%\n"
    }
   },
   "outputs": [],
   "source": [
    "length(aset)"
   ]
  },
  {
   "cell_type": "code",
   "execution_count": null,
   "id": "665fdc06",
   "metadata": {
    "collapsed": false,
    "jupyter": {
     "outputs_hidden": false
    },
    "pycharm": {
     "name": "#%%\n"
    }
   },
   "outputs": [],
   "source": [
    "df = filter(:Author => a -> (a ∉ aset), df)"
   ]
  },
  {
   "cell_type": "code",
   "execution_count": null,
   "id": "5d9cd7f8",
   "metadata": {
    "collapsed": false,
    "jupyter": {
     "outputs_hidden": false
    },
    "pycharm": {
     "name": "#%%\n"
    }
   },
   "outputs": [],
   "source": [
    "#filter(:name => n -> n == \"Alice\", grades_2020())"
   ]
  },
  {
   "cell_type": "code",
   "execution_count": null,
   "id": "03831032",
   "metadata": {
    "collapsed": false,
    "jupyter": {
     "outputs_hidden": false
    },
    "pycharm": {
     "name": "#%%\n"
    }
   },
   "outputs": [],
   "source": [
    "CSV.write(\"bookIBSN.csv\", df)"
   ]
  },
  {
   "cell_type": "code",
   "execution_count": null,
   "id": "0ab1fcf5",
   "metadata": {
    "collapsed": false,
    "jupyter": {
     "outputs_hidden": false
    },
    "pycharm": {
     "name": "#%%\n"
    }
   },
   "outputs": [],
   "source": [
    "aDf"
   ]
  },
  {
   "cell_type": "code",
   "execution_count": null,
   "id": "b717b2b8",
   "metadata": {
    "collapsed": false,
    "jupyter": {
     "outputs_hidden": false
    },
    "pycharm": {
     "name": "#%%\n"
    }
   },
   "outputs": [],
   "source": [
    "adf"
   ]
  },
  {
   "cell_type": "code",
   "execution_count": null,
   "id": "b96cd5ea",
   "metadata": {
    "collapsed": false,
    "jupyter": {
     "outputs_hidden": false
    },
    "pycharm": {
     "name": "#%%\n"
    }
   },
   "outputs": [],
   "source": [
    "foreach(println, names(df))"
   ]
  },
  {
   "cell_type": "code",
   "execution_count": null,
   "id": "6ed91f73",
   "metadata": {
    "collapsed": false,
    "jupyter": {
     "outputs_hidden": false
    },
    "pycharm": {
     "name": "#%%\n"
    }
   },
   "outputs": [],
   "source": [
    "daf = leftjoin(df, adf, on=:ISBN);"
   ]
  },
  {
   "cell_type": "code",
   "execution_count": null,
   "id": "87ce4be6",
   "metadata": {
    "collapsed": false,
    "jupyter": {
     "outputs_hidden": false
    },
    "pycharm": {
     "name": "#%%\n"
    }
   },
   "outputs": [],
   "source": [
    "foreach(println, names(daf))"
   ]
  },
  {
   "cell_type": "code",
   "execution_count": null,
   "id": "160e03a7",
   "metadata": {
    "collapsed": false,
    "jupyter": {
     "outputs_hidden": false
    },
    "pycharm": {
     "name": "#%%\n"
    }
   },
   "outputs": [],
   "source": [
    "aDf = leftjoin(aDf, daf, on=:Author, makeunique=true)"
   ]
  },
  {
   "cell_type": "code",
   "execution_count": null,
   "id": "8b1d7afa",
   "metadata": {
    "collapsed": false,
    "jupyter": {
     "outputs_hidden": false
    },
    "pycharm": {
     "name": "#%%\n"
    }
   },
   "outputs": [],
   "source": [
    "aDf.PublisherId .= 1"
   ]
  },
  {
   "cell_type": "code",
   "execution_count": null,
   "id": "cc82a34c",
   "metadata": {
    "collapsed": false,
    "jupyter": {
     "outputs_hidden": false
    },
    "pycharm": {
     "name": "#%%\n"
    }
   },
   "outputs": [],
   "source": [
    "aDf = aDf[:,[:id, :FirstName, :LastName, :biography, :PublisherId]]"
   ]
  },
  {
   "cell_type": "code",
   "execution_count": null,
   "id": "a8a74074",
   "metadata": {
    "collapsed": false,
    "jupyter": {
     "outputs_hidden": false
    },
    "pycharm": {
     "name": "#%%\n"
    }
   },
   "outputs": [],
   "source": [
    "aDf = aDf[completecases(aDf),:];\n",
    "disallowmissing!(aDf);\n"
   ]
  },
  {
   "cell_type": "code",
   "execution_count": null,
   "id": "3190ffeb",
   "metadata": {
    "collapsed": false,
    "jupyter": {
     "outputs_hidden": false
    },
    "pycharm": {
     "name": "#%%\n"
    }
   },
   "outputs": [],
   "source": [
    "aDf = unique(aDf,:id);"
   ]
  },
  {
   "cell_type": "code",
   "execution_count": null,
   "id": "fc989678",
   "metadata": {
    "collapsed": false,
    "jupyter": {
     "outputs_hidden": false
    },
    "pycharm": {
     "name": "#%%\n"
    }
   },
   "outputs": [],
   "source": [
    "nrow(aDf)"
   ]
  },
  {
   "cell_type": "code",
   "execution_count": null,
   "id": "c46ede06",
   "metadata": {
    "collapsed": false,
    "jupyter": {
     "outputs_hidden": false
    },
    "pycharm": {
     "name": "#%%\n"
    }
   },
   "outputs": [],
   "source": [
    "CSV.write(\".\\\\authors.csv\", aDf[:,[:id, :FirstName, :LastName, :biography, :PublisherId]]; openquotechar='\"', closequotechar='\"', escapechar='\"', quotestrings=true)"
   ]
  },
  {
   "cell_type": "code",
   "execution_count": null,
   "id": "7b2a42b6-9045-47d5-b924-4e924941a030",
   "metadata": {
    "pycharm": {
     "name": "#%%\n"
    }
   },
   "outputs": [],
   "source": [
    "aDf = aDf[:,[:id, :FirstName, :LastName, :biography, :PublisherId]]"
   ]
  },
  {
   "cell_type": "code",
   "execution_count": null,
   "id": "647b81e4-0d3b-4fd4-ad9c-0a5ac5c2b791",
   "metadata": {
    "pycharm": {
     "name": "#%%\n"
    },
    "tags": []
   },
   "outputs": [],
   "source": [
    "aDf = aDf[completecases(aDf),:];\n",
    "disallowmissing!(aDf);\n"
   ]
  },
  {
   "cell_type": "code",
   "execution_count": null,
   "id": "860b5eda-c26b-4bfa-a2f9-9b3f47ada089",
   "metadata": {
    "pycharm": {
     "name": "#%%\n"
    }
   },
   "outputs": [],
   "source": [
    "aDf = unique(aDf,:id);"
   ]
  },
  {
   "cell_type": "code",
   "execution_count": null,
   "id": "599bd173-1305-4e77-ae39-2c08cefc6cb0",
   "metadata": {},
   "outputs": [],
   "source": [
    "nrow(aDf)"
   ]
  },
  {
   "cell_type": "code",
   "execution_count": null,
   "id": "79721aa7-3115-4a7a-8f07-58fd9e14e41e",
   "metadata": {
    "pycharm": {
     "name": "#%%\n"
    }
   },
   "outputs": [],
   "source": [
    "CSV.write(\".\\\\authors.csv\", aDf[:,[:id, :FirstName, :LastName, :biography, :PublisherId]]; openquotechar='\"', closequotechar='\"', escapechar='\"', quotestrings=true)"
   ]
  },
  {
   "cell_type": "code",
   "execution_count": null,
   "id": "a21a25d7-845e-480c-a711-542be5eccfa3",
   "metadata": {
    "pycharm": {
     "name": "#%%\n"
    }
   },
   "outputs": [],
   "source": []
  }
 ],
 "metadata": {
  "kernelspec": {
   "display_name": "Julia 1.8.5",
   "language": "julia",
   "name": "julia-1.8"
  },
  "language_info": {
   "file_extension": ".jl",
   "mimetype": "application/julia",
   "name": "julia",
   "version": "1.8.5"
  }
 },
 "nbformat": 4,
 "nbformat_minor": 5
}
