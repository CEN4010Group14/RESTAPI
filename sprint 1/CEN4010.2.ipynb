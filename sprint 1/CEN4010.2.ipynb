{
 "cells": [
  {
   "cell_type": "code",
   "execution_count": null,
   "id": "e78c72ca-d964-4173-9206-c6c41e1ad8d1",
   "metadata": {
    "pycharm": {
     "name": "#%%\n"
    }
   },
   "outputs": [],
   "source": [
    "] add Distributions"
   ]
  },
  {
   "cell_type": "code",
   "execution_count": null,
   "id": "78a4df28-181c-4825-acd0-2375b1e36dd8",
   "metadata": {
    "pycharm": {
     "name": "#%%\n"
    }
   },
   "outputs": [],
   "source": [
    "using CSV\n",
    "using DataFrames\n",
    "using DataFramesMeta\n",
    "using ODBC\n",
    "using Distributions\n",
    "using StatsBase"
   ]
  },
  {
   "cell_type": "code",
   "execution_count": null,
   "id": "6b461fb2-c842-41f4-9780-e485febadb9b",
   "metadata": {
    "pycharm": {
     "name": "#%%\n"
    }
   },
   "outputs": [],
   "source": [
    "bs = \"bulk_bookstore_dataset.csv\""
   ]
  },
  {
   "cell_type": "code",
   "execution_count": null,
   "id": "ae86b7af-5fc6-4c8d-851f-18541622df17",
   "metadata": {
    "pycharm": {
     "name": "#%%\n"
    }
   },
   "outputs": [],
   "source": [
    "df = CSV.read(read(bs), DataFrame);"
   ]
  },
  {
   "cell_type": "code",
   "execution_count": null,
   "id": "6de837d5-51d3-46e1-ab02-a29eb4520682",
   "metadata": {
    "pycharm": {
     "name": "#%%\n"
    }
   },
   "outputs": [],
   "source": [
    "df = @chain df begin\n",
    "    @rtransform $[:crap, :genre, :name] = begin\n",
    "        x = split(:Breadcrumbs, \"|\")\n",
    "        get.(Ref(x), 1:3, missing)\n",
    "    end\n",
    "end"
   ]
  },
  {
   "cell_type": "code",
   "execution_count": null,
   "id": "9b72746c-f1ff-45c9-9a3c-3cc7320c5bbf",
   "metadata": {
    "pycharm": {
     "name": "#%%\n"
    }
   },
   "outputs": [],
   "source": [
    "df.rating = rand(Uniform(1,5),nrow(df));"
   ]
  },
  {
   "cell_type": "code",
   "execution_count": null,
   "id": "4edea9fc-d8d3-465b-887e-2e7265fb791a",
   "metadata": {
    "tags": [],
    "pycharm": {
     "name": "#%%\n"
    }
   },
   "outputs": [],
   "source": [
    "aDf = CSV.read(read(\"iAuthors.csv\"), DataFrame; header=[\"id\", \"FirstName\", \"LastName\", \"Biography\", \"PublisherId\"]);"
   ]
  },
  {
   "cell_type": "code",
   "execution_count": null,
   "id": "17f8ec96-1715-4d92-9738-73a198ff1b14",
   "metadata": {
    "tags": [],
    "pycharm": {
     "name": "#%%\n"
    }
   },
   "outputs": [],
   "source": [
    "aDf.author = [row.FirstName * ' ' * row.LastName for row in eachrow(aDf)];"
   ]
  },
  {
   "cell_type": "code",
   "execution_count": null,
   "id": "34747a33-b016-40fd-b715-dfda7213b349",
   "metadata": {
    "pycharm": {
     "name": "#%%\n"
    }
   },
   "outputs": [],
   "source": [
    "nrow(aDf)"
   ]
  },
  {
   "cell_type": "code",
   "execution_count": null,
   "id": "a2087b47-fb1a-431c-bdfb-42035e4f56de",
   "metadata": {
    "pycharm": {
     "name": "#%%\n"
    }
   },
   "outputs": [],
   "source": [
    "aDf = unique(aDf, :author);"
   ]
  },
  {
   "cell_type": "code",
   "execution_count": null,
   "id": "3dbba45b-077e-4ba9-9fab-eddeaebf7d71",
   "metadata": {
    "pycharm": {
     "name": "#%%\n"
    }
   },
   "outputs": [],
   "source": [
    "nrow(aDf)"
   ]
  },
  {
   "cell_type": "code",
   "execution_count": null,
   "id": "0ac08eca-a65b-47c6-adda-1ef392a786f5",
   "metadata": {
    "pycharm": {
     "name": "#%%\n"
    }
   },
   "outputs": [],
   "source": [
    "first(aDf,1)"
   ]
  },
  {
   "cell_type": "code",
   "execution_count": null,
   "id": "8495fb8b-7ada-4501-b659-a81a6d0819b0",
   "metadata": {
    "pycharm": {
     "name": "#%%\n"
    }
   },
   "outputs": [],
   "source": [
    "df.ISBN = [SubString(s,3,15) for s in df.ISBN];\n",
    "df.ISBN = [parse(Int64,s) for s in df.ISBN];"
   ]
  },
  {
   "cell_type": "code",
   "execution_count": null,
   "id": "580e47e4-9097-4740-9358-5e4ddaa1bdec",
   "metadata": {
    "pycharm": {
     "name": "#%%\n"
    }
   },
   "outputs": [],
   "source": [
    "iDf = CSV.read(read(\"iBooks.csv\"), DataFrame; header=[:id, :ISBN, :name, :Price, :rating, :GenreId, :PublisherId, :year,:copies, :description]);"
   ]
  },
  {
   "cell_type": "code",
   "execution_count": null,
   "id": "ea23784b-40b3-4dd8-9107-aa8d819b7500",
   "metadata": {
    "pycharm": {
     "name": "#%%\n"
    }
   },
   "outputs": [],
   "source": [
    "nrow(iDf)"
   ]
  },
  {
   "cell_type": "code",
   "execution_count": null,
   "id": "29432659-c156-4132-bb90-f4f93ff6a94a",
   "metadata": {
    "pycharm": {
     "name": "#%%\n"
    }
   },
   "outputs": [],
   "source": [
    "iDf = unique(iDf, :ISBN);"
   ]
  },
  {
   "cell_type": "code",
   "execution_count": null,
   "id": "bb232063-e481-4b4a-8c52-50f8c1f99593",
   "metadata": {
    "pycharm": {
     "name": "#%%\n"
    }
   },
   "outputs": [],
   "source": [
    "nrow(iDf)"
   ]
  },
  {
   "cell_type": "code",
   "execution_count": null,
   "id": "73ce038a-8029-4382-964d-6bc76297d95b",
   "metadata": {
    "pycharm": {
     "name": "#%%\n"
    }
   },
   "outputs": [],
   "source": [
    "first(iDf,1)"
   ]
  },
  {
   "cell_type": "code",
   "execution_count": null,
   "id": "f7d53c74-229e-4cf7-b706-875641c6fe9a",
   "metadata": {
    "pycharm": {
     "name": "#%%\n"
    }
   },
   "outputs": [],
   "source": [
    "authors = String[]\n",
    "for row in eachrow(iDf)\n",
    "    author = String(strip(df[only(findall(==(row.ISBN), df.ISBN)), :].Author))\n",
    "    # println(author)\n",
    "    author = split(author, \",\")\n",
    "    push!(authors, String(strip(author[1])))\n",
    "end\n",
    "# println(length(authors))\n",
    "# println(nrow(iDf))    \n"
   ]
  },
  {
   "cell_type": "code",
   "execution_count": null,
   "id": "138c4643-8290-4d48-9b01-500190ee25bc",
   "metadata": {
    "pycharm": {
     "name": "#%%\n"
    }
   },
   "outputs": [],
   "source": []
  },
  {
   "cell_type": "code",
   "execution_count": null,
   "id": "d5099a88-d981-430e-90f1-0e35cc3efe0a",
   "metadata": {
    "pycharm": {
     "name": "#%%\n"
    }
   },
   "outputs": [],
   "source": [
    "df.copies = rand(1000:1000000,nrow(df));"
   ]
  },
  {
   "cell_type": "code",
   "execution_count": null,
   "id": "45aefe36-a1f2-4e33-95a2-cc3753ca5090",
   "metadata": {
    "pycharm": {
     "name": "#%%\n"
    }
   },
   "outputs": [],
   "source": [
    "# df.pub = [x.match for x in match.(r\"^(\\w+)\", df.Publisher)]\n",
    "df.PublisherId = [StatsBase.sample([1,2,3]) for _ in range(start=1, stop=nrow(df))];"
   ]
  },
  {
   "cell_type": "code",
   "execution_count": null,
   "id": "b34d19e0-ea28-4bc4-a7f8-3d1dbb544173",
   "metadata": {
    "pycharm": {
     "name": "#%%\n"
    }
   },
   "outputs": [],
   "source": [
    "df.year = [parse(Int64,x.match) for x in match.(r\"(\\d{4})\", df.Publisher)];"
   ]
  },
  {
   "cell_type": "code",
   "execution_count": null,
   "id": "8307eed0-c556-4118-a809-3b27d96c998d",
   "metadata": {
    "pycharm": {
     "name": "#%%\n"
    }
   },
   "outputs": [],
   "source": [
    "odf = CSV.read(read(\"out.csv\"), DataFrame);"
   ]
  },
  {
   "cell_type": "code",
   "execution_count": null,
   "id": "e4fa2ba5-40e3-4c73-95d0-275f75629896",
   "metadata": {
    "pycharm": {
     "name": "#%%\n"
    }
   },
   "outputs": [],
   "source": [
    "df.description = odf[:,\"description\"];"
   ]
  },
  {
   "cell_type": "code",
   "execution_count": null,
   "id": "425762bd-ba2d-4918-b8db-46d11da31b3d",
   "metadata": {
    "pycharm": {
     "name": "#%%\n"
    }
   },
   "outputs": [],
   "source": [
    "# df.ISBN = [SubString(s,3,15) for s in df.ISBN];"
   ]
  },
  {
   "cell_type": "code",
   "execution_count": null,
   "id": "7c405241-d68a-4374-9f4d-a03062a7ec91",
   "metadata": {
    "pycharm": {
     "name": "#%%\n"
    }
   },
   "outputs": [],
   "source": [
    "# df.ISBN = [parse(Int64,s) for s in df.ISBN];"
   ]
  },
  {
   "cell_type": "code",
   "execution_count": null,
   "id": "e6939e56-961c-4821-a070-20d3606346ec",
   "metadata": {
    "pycharm": {
     "name": "#%%\n"
    }
   },
   "outputs": [],
   "source": [
    "df = df[completecases(df),:]\n",
    "disallowmissing!(df);"
   ]
  },
  {
   "cell_type": "code",
   "execution_count": null,
   "id": "743aff1f-f64c-49d0-9012-170d14dc5c3c",
   "metadata": {
    "pycharm": {
     "name": "#%%\n"
    }
   },
   "outputs": [],
   "source": [
    "nSet = Set()"
   ]
  },
  {
   "cell_type": "code",
   "execution_count": null,
   "id": "dd2ec3f5-301b-4d31-9ed1-29e5ecdaedc9",
   "metadata": {
    "tags": [],
    "pycharm": {
     "name": "#%%\n"
    }
   },
   "outputs": [],
   "source": [
    "pdf = DataFrame()\n",
    "for row in eachrow(df)\n",
    "    twoNames = split(row.Author, \",\")\n",
    "    for name in twoNames\n",
    "        name = strip(String(name))\n",
    "        row.Author = name \n",
    "        push!(pdf, row)\n",
    "        push!(nSet, name)\n",
    "    end\n",
    "end        "
   ]
  },
  {
   "cell_type": "code",
   "execution_count": null,
   "id": "988bc814-e470-4b2d-bf5f-0755cdcce9ac",
   "metadata": {
    "pycharm": {
     "name": "#%%\n"
    }
   },
   "outputs": [],
   "source": [
    "saDf = DataFrame([:AuthorId=>[], :Author=>[]])\n",
    "for (i, val) in enumerate(nSet)\n",
    "    push!(saDf, [i strip(val)])\n",
    "    # println(nrow(filter(:Author => n -> n == val, df)))\n",
    "    # filter(:Author => n -> n == val, df).AuthorId .= i\n",
    "    # df[:AuthorId, filter(:Author => n -> n == val, df)] .= i\n",
    "    # @. df.AuthorId = ifelse(df.Author == val, i, df.AuthorId)\n",
    "    # println(filter(:Author => n -> n == val, df).AuthorId)\n",
    "    # println(i)\n",
    "end"
   ]
  },
  {
   "cell_type": "code",
   "execution_count": null,
   "id": "9726028f-77e2-4b60-a513-b86a4557bdf6",
   "metadata": {
    "pycharm": {
     "name": "#%%\n"
    }
   },
   "outputs": [],
   "source": [
    "print(nrow(saDf))"
   ]
  },
  {
   "cell_type": "code",
   "execution_count": null,
   "id": "4bcefde1-e34f-4a3f-9c2d-0d2a3eb55ef6",
   "metadata": {
    "pycharm": {
     "name": "#%%\n"
    }
   },
   "outputs": [],
   "source": [
    "afiles = readdir(\"./au\", join=true)"
   ]
  },
  {
   "cell_type": "code",
   "execution_count": null,
   "id": "9e8edc0f-d064-4a92-b077-fe29ab216105",
   "metadata": {
    "pycharm": {
     "name": "#%%\n"
    }
   },
   "outputs": [],
   "source": [
    "adf = CSV.read(read(afiles[1]), DataFrame)\n",
    "for file in afiles[2:end]\n",
    "    adf =  vcat(adf, CSV.read(read(file), DataFrame));\n",
    "end    "
   ]
  },
  {
   "cell_type": "code",
   "execution_count": null,
   "id": "5f8461ce-c45e-4bd5-9ce5-e1b05e1e1309",
   "metadata": {
    "tags": [],
    "pycharm": {
     "name": "#%%\n"
    }
   },
   "outputs": [],
   "source": [
    "adf = adf[completecases(adf),:];"
   ]
  },
  {
   "cell_type": "code",
   "execution_count": null,
   "id": "aeba81fe-42ba-4d9a-bcfc-c932c8aedec2",
   "metadata": {
    "pycharm": {
     "name": "#%%\n"
    }
   },
   "outputs": [],
   "source": [
    "nrow(saDf)"
   ]
  },
  {
   "cell_type": "code",
   "execution_count": null,
   "id": "3df7fc9f-3397-4a56-9a95-9755e3d30e46",
   "metadata": {
    "pycharm": {
     "name": "#%%\n"
    }
   },
   "outputs": [],
   "source": [
    "function parseFirstName(s::String)::String\n",
    "    names = split(s, \" \")\n",
    "    if length(names) == 3\n",
    "        return names[1] * \" \" * names[2]\n",
    "    end\n",
    "    return names[1]\n",
    "end"
   ]
  },
  {
   "cell_type": "code",
   "execution_count": null,
   "id": "ab80f214-f554-4a6a-92c8-f07be669c9cc",
   "metadata": {
    "pycharm": {
     "name": "#%%\n"
    }
   },
   "outputs": [],
   "source": [
    "function parseLastName(s::String)::String\n",
    "    names = split(s, \" \")\n",
    "    if length(names) == 3\n",
    "        return names[3]\n",
    "    end\n",
    "    if length(names) < 2\n",
    "        println(s)\n",
    "        return \"\"\n",
    "    end\n",
    "    return names[2]\n",
    "end"
   ]
  },
  {
   "cell_type": "code",
   "execution_count": null,
   "id": "7e481aef-527b-4db0-b88e-363352ece05b",
   "metadata": {
    "pycharm": {
     "name": "#%%\n"
    }
   },
   "outputs": [],
   "source": [
    "ISBN = 9780060001261\n",
    "pdf[findall(==(ISBN), pdf.ISBN), :].Author"
   ]
  },
  {
   "cell_type": "code",
   "execution_count": null,
   "id": "e8c08ab6-8dde-4871-9c66-a19571930b5e",
   "metadata": {
    "pycharm": {
     "name": "#%%\n"
    }
   },
   "outputs": [],
   "source": [
    "aDf = DataFrame([:id=>[], :FirstName=>[], :LastName=>[], :Biography=>[], :PublisherId=>[], :Author=>[]])\n",
    "for row in eachrow(adf)\n",
    "    authors =  pdf[findall(==(row.ISBN), pdf.ISBN), :].Author\n",
    "    for author in eachrow(authors)\n",
    "        author = String(strip(String(author[1])))\n",
    "        try\n",
    "            AuthorId = saDf[only(findall(==(author), saDf.Author)), :].AuthorId\n",
    "            push!(aDf, [AuthorId parseFirstName(author) parseLastName(author) row.biography 1 author])\n",
    "        catch e\n",
    "            println(e)\n",
    "            println(author)\n",
    "            continue\n",
    "        end    \n",
    "    end\n",
    "end    "
   ]
  },
  {
   "cell_type": "code",
   "execution_count": null,
   "id": "93c3b667-c688-4229-9cd9-198b2864bc59",
   "metadata": {
    "pycharm": {
     "name": "#%%\n"
    }
   },
   "outputs": [],
   "source": [
    "LastName=\"Murphy\"\n",
    "aDf[findall(==(LastName), aDf.LastName), :]"
   ]
  },
  {
   "cell_type": "code",
   "execution_count": null,
   "id": "abb14953-0e77-4456-9349-5d8854d54722",
   "metadata": {
    "pycharm": {
     "name": "#%%\n"
    }
   },
   "outputs": [],
   "source": [
    "df = filter(:Author => i -> (i ∈ aDf.Author), pdf);"
   ]
  },
  {
   "cell_type": "code",
   "execution_count": null,
   "id": "87fa5f12-4039-4c98-82df-79b770a701c7",
   "metadata": {
    "pycharm": {
     "name": "#%%\n"
    }
   },
   "outputs": [],
   "source": [
    "nrow(df)\n",
    "# df.AuthorId =[aDf[only(findall(==(row.Author), aDf.author)), :].id for row in eachrow(df)];"
   ]
  },
  {
   "cell_type": "code",
   "execution_count": null,
   "id": "a9601a32-a422-48de-963b-5b46a5ea30d8",
   "metadata": {
    "pycharm": {
     "name": "#%%\n"
    }
   },
   "outputs": [],
   "source": [
    "genres = CSV.read(read(\"genres.csv\"), DataFrame);"
   ]
  },
  {
   "cell_type": "code",
   "execution_count": null,
   "id": "1b45015d-3372-463a-99fa-3997aa1fd6f4",
   "metadata": {
    "tags": [],
    "pycharm": {
     "name": "#%%\n"
    }
   },
   "outputs": [],
   "source": [
    "df.GenreId = [rownumber(genres[only(findall(==(row.genre), genres.genre)), :]) for row in eachrow(df)];"
   ]
  },
  {
   "cell_type": "code",
   "execution_count": null,
   "id": "d73be0fa-d76e-4191-8324-e5554535169a",
   "metadata": {
    "pycharm": {
     "name": "#%%\n"
    }
   },
   "outputs": [],
   "source": [
    "df.Price = [parse(Float64, SubString(s,2)) for s in df.Price];"
   ]
  },
  {
   "cell_type": "code",
   "execution_count": null,
   "id": "75a72d4b-9187-429c-a8ac-4b5053b44e8d",
   "metadata": {
    "tags": [],
    "pycharm": {
     "name": "#%%\n"
    }
   },
   "outputs": [],
   "source": [
    "nrow(df)"
   ]
  },
  {
   "cell_type": "code",
   "execution_count": null,
   "id": "dbc4603c-48bc-42a0-8523-4ef47157a39a",
   "metadata": {
    "pycharm": {
     "name": "#%%\n"
    }
   },
   "outputs": [],
   "source": [
    "df = unique(df, :ISBN);"
   ]
  },
  {
   "cell_type": "code",
   "execution_count": null,
   "id": "2dfc8665-f36c-4f85-b387-53c1f748db51",
   "metadata": {
    "pycharm": {
     "name": "#%%\n"
    }
   },
   "outputs": [],
   "source": [
    "nrow(df)"
   ]
  },
  {
   "cell_type": "code",
   "execution_count": null,
   "id": "eeb0ee87-62ff-4639-ba44-f0adc9246124",
   "metadata": {
    "pycharm": {
     "name": "#%%\n"
    }
   },
   "outputs": [],
   "source": [
    "CSV.write(\".\\\\books.csv\", df[:,[:ISBN, :name, :Price, :rating, :GenreId, :PublisherId, :year,:copies, :description]]; openquotechar='\"', closequotechar='\"', escapechar='\"', quotestrings=true)"
   ]
  },
  {
   "cell_type": "code",
   "execution_count": null,
   "id": "93deaed3-0d0a-44a6-8256-7f0b2cc3a1f2",
   "metadata": {
    "pycharm": {
     "name": "#%%\n"
    }
   },
   "outputs": [],
   "source": [
    "nrow(aDf)"
   ]
  },
  {
   "cell_type": "code",
   "execution_count": null,
   "id": "35a87549-84f7-41d8-a6db-266744e145bb",
   "metadata": {
    "pycharm": {
     "name": "#%%\n"
    }
   },
   "outputs": [],
   "source": [
    "aDf = unique(aDf, :id);"
   ]
  },
  {
   "cell_type": "code",
   "execution_count": null,
   "id": "dd0884c7-605c-4843-b068-1c28583c5eec",
   "metadata": {
    "pycharm": {
     "name": "#%%\n"
    }
   },
   "outputs": [],
   "source": [
    "nrow(aDf)"
   ]
  },
  {
   "cell_type": "code",
   "execution_count": null,
   "id": "db009f03-50b2-4561-bd93-54abd968db00",
   "metadata": {
    "tags": [],
    "pycharm": {
     "name": "#%%\n"
    }
   },
   "outputs": [],
   "source": [
    "CSV.write(\".\\\\authors.csv\", aDf[:,[:id, :FirstName, :LastName, :Biography, :PublisherId]]; openquotechar='\"', closequotechar='\"', escapechar='\"', quotestrings=true)"
   ]
  },
  {
   "cell_type": "code",
   "execution_count": null,
   "id": "c0fdc6d1-940a-46e7-bb03-04c17eddeedb",
   "metadata": {
    "pycharm": {
     "name": "#%%\n"
    }
   },
   "outputs": [],
   "source": [
    "df = CSV.read(read(\"iBooks.csv\"), DataFrame; header=[:id, :ISBN, :name, :Price, :rating, :GenreId, :PublisherId, :year,:copies, :description]);"
   ]
  },
  {
   "cell_type": "code",
   "execution_count": null,
   "id": "6f6fede6-a8dd-457c-997b-836801cd52be",
   "metadata": {
    "pycharm": {
     "name": "#%%\n"
    }
   },
   "outputs": [],
   "source": [
    "book_authors = DataFrame([:BookId=>[],:AuthorId=>[]] )"
   ]
  },
  {
   "cell_type": "code",
   "execution_count": null,
   "id": "33b25bfd-9cce-4872-942f-ad527ade9de8",
   "metadata": {
    "pycharm": {
     "name": "#%%\n"
    }
   },
   "outputs": [],
   "source": [
    "author = \"Stuart J. Murphy\"\n",
    "authors[findall(==(author), authors.author), :]"
   ]
  },
  {
   "cell_type": "code",
   "execution_count": null,
   "id": "748ab43a-f4aa-4b12-b1ae-f2f63f4d40c0",
   "metadata": {
    "pycharm": {
     "name": "#%%\n"
    }
   },
   "outputs": [],
   "source": [
    "first(aDf,1)"
   ]
  },
  {
   "cell_type": "code",
   "execution_count": null,
   "id": "9d9a7d14-e380-4265-a0eb-cbb94bbf2ffd",
   "metadata": {
    "pycharm": {
     "name": "#%%\n"
    }
   },
   "outputs": [],
   "source": [
    "first(pdf,1)"
   ]
  },
  {
   "cell_type": "code",
   "execution_count": null,
   "id": "584a666b-882f-4fb0-b114-618d5352bc18",
   "metadata": {
    "pycharm": {
     "name": "#%%\n"
    }
   },
   "outputs": [],
   "source": [
    "for row in eachrow(df)\n",
    "    try\n",
    "        isbns = pdf[findall(==(row.ISBN), pdf.ISBN), :]\n",
    "        for isbn in eachrow(isbns)\n",
    "            author = strip(string(isbn.Author))\n",
    "            aids = authors[findall(==(author), authors.author), :].id\n",
    "            for aid in eachrow(aids)\n",
    "                push!(book_authors,[row.id aid]);  \n",
    "            end\n",
    "        end\n",
    "    catch e\n",
    "        println(e)\n",
    "        # println(row)\n",
    "        println(\"shit\")\n",
    "        continue\n",
    "    end   \n",
    "    # fn = aDf[only(findall(==(row.AuthorId), aDf.id)), :].FirstName \n",
    "    # ln = aDf[only(findall(==(row.AuthorId), aDf.id)), :].LastName \n",
    "    # a = fn * ' ' * ln\n",
    "    # push!(nSet,a)\n",
    "end"
   ]
  },
  {
   "cell_type": "code",
   "execution_count": null,
   "id": "ce2cbc6c-67f5-4016-a6cd-c5ab676b4553",
   "metadata": {
    "pycharm": {
     "name": "#%%\n"
    }
   },
   "outputs": [],
   "source": [
    "book_authors = unique(book_authors);"
   ]
  },
  {
   "cell_type": "code",
   "execution_count": 197,
   "id": "1bec10ca-9ed3-4226-b2fd-39259d4c136b",
   "metadata": {
    "pycharm": {
     "name": "#%%\n"
    }
   },
   "outputs": [
    {
     "data": {
      "text/plain": [
       "381"
      ]
     },
     "execution_count": 197,
     "metadata": {},
     "output_type": "execute_result"
    }
   ],
   "source": [
    "nrow(book_authors)"
   ]
  },
  {
   "cell_type": "code",
   "execution_count": null,
   "id": "12afdc1f-718f-4286-96e8-f322f80d4012",
   "metadata": {
    "pycharm": {
     "name": "#%%\n"
    }
   },
   "outputs": [],
   "source": [
    "nrow(aDf)"
   ]
  },
  {
   "cell_type": "code",
   "execution_count": 198,
   "id": "292e672f-e1e6-45fa-a7f6-9c6a96c44180",
   "metadata": {
    "pycharm": {
     "name": "#%%\n"
    }
   },
   "outputs": [
    {
     "data": {
      "text/plain": [
       "\".\\\\book_authors.csv\""
      ]
     },
     "execution_count": 198,
     "metadata": {},
     "output_type": "execute_result"
    }
   ],
   "source": [
    "CSV.write(\".\\\\book_authors.csv\", book_authors)"
   ]
  },
  {
   "cell_type": "code",
   "execution_count": null,
   "id": "1b0d5e9c-7d79-4354-9d5c-fea8be3bd340",
   "metadata": {
    "pycharm": {
     "name": "#%%\n"
    }
   },
   "outputs": [],
   "source": [
    "df = CSV.read(read(\"iBooks.csv\"), DataFrame; header=[:id, :ISBN, :name, :Price, :rating, :GenreId, :PublisherId, :year,:copies, :description]);"
   ]
  },
  {
   "cell_type": "code",
   "execution_count": null,
   "id": "3d95fe90-906b-4807-bd62-ae95c36370b0",
   "metadata": {
    "pycharm": {
     "name": "#%%\n"
    }
   },
   "outputs": [],
   "source": [
    "df.PublisherId = [StatsBase.sample([1,2,3]) for _ in range(start=1, stop=nrow(df))];"
   ]
  },
  {
   "cell_type": "code",
   "execution_count": null,
   "id": "c5fd5743-daf8-462c-b1fa-65b8cce94d7d",
   "metadata": {
    "pycharm": {
     "name": "#%%\n"
    }
   },
   "outputs": [],
   "source": [
    "CSV.write(\".\\\\books.csv\", df[:,[:ISBN, :name, :Price, :rating, :GenreId, :PublisherId, :year,:copies, :description]]; openquotechar='\"', closequotechar='\"', escapechar='\"', quotestrings=true)"
   ]
  },
  {
   "cell_type": "code",
   "execution_count": null,
   "id": "c14db79a-176b-4db3-8a01-23d94df3277a",
   "metadata": {
    "pycharm": {
     "name": "#%%\n"
    }
   },
   "outputs": [],
   "source": [
    "ba = CSV.read(read(\"book_authors.csv\"), DataFrame);"
   ]
  },
  {
   "cell_type": "code",
   "execution_count": null,
   "id": "db15a1af-1881-4176-a849-d462dd9b68a4",
   "metadata": {
    "pycharm": {
     "name": "#%%\n"
    }
   },
   "outputs": [],
   "source": [
    "first(ba,5)"
   ]
  },
  {
   "cell_type": "code",
   "execution_count": null,
   "id": "0bbcdb9a-bd4e-4e4f-b4c3-f0118e2ea1bf",
   "metadata": {
    "pycharm": {
     "name": "#%%\n"
    }
   },
   "outputs": [],
   "source": [
    "aDf = CSV.read(read(\"iAuthors.csv\"), DataFrame; header=[\"id\", \"FirstName\", \"LastName\", \"Biography\", \"PublisherId\"]);"
   ]
  },
  {
   "cell_type": "code",
   "execution_count": null,
   "id": "02942290-c4ff-4e0d-a3c4-e45566f932d8",
   "metadata": {
    "pycharm": {
     "name": "#%%\n"
    }
   },
   "outputs": [],
   "source": [
    "#df = CSV.read(read(\"iBooks.csv\"), DataFrame; header=[:id, :ISBN, :name, :Price, :rating, :GenreId, :PublisherId, :year,:copies, :description]);\n",
    "nrow(aDf)"
   ]
  },
  {
   "cell_type": "code",
   "execution_count": null,
   "id": "ff42ae92-2107-4019-bcf2-1edb99a4d0ac",
   "metadata": {
    "pycharm": {
     "name": "#%%\n"
    }
   },
   "outputs": [],
   "source": [
    "aDf = unique(aDf, :id);"
   ]
  },
  {
   "cell_type": "code",
   "execution_count": null,
   "id": "6c941891-b18f-4974-a344-57f229c14dfa",
   "metadata": {
    "pycharm": {
     "name": "#%%\n"
    }
   },
   "outputs": [],
   "source": [
    "nrow(aDf)"
   ]
  },
  {
   "cell_type": "code",
   "execution_count": null,
   "id": "64079492-f152-4436-936b-dde9a63f54bd",
   "metadata": {
    "pycharm": {
     "name": "#%%\n"
    }
   },
   "outputs": [],
   "source": [
    "first(aDf,5)"
   ]
  },
  {
   "cell_type": "code",
   "execution_count": null,
   "id": "393425e7-3a56-455f-90c8-5d723bf05533",
   "metadata": {
    "tags": [],
    "pycharm": {
     "name": "#%%\n"
    }
   },
   "outputs": [],
   "source": [
    "first(df,5)"
   ]
  },
  {
   "cell_type": "code",
   "execution_count": null,
   "id": "4378c20a-9bfe-4c84-83c9-bfadf62e6b53",
   "metadata": {
    "pycharm": {
     "name": "#%%\n"
    }
   },
   "outputs": [],
   "source": [
    "pubI = Int64[]"
   ]
  },
  {
   "cell_type": "code",
   "execution_count": null,
   "id": "96d92d84-2996-490e-b112-494bbda5c922",
   "metadata": {
    "pycharm": {
     "name": "#%%\n"
    }
   },
   "outputs": [],
   "source": [
    "for row in eachrow(ba)\n",
    "    # print(row.AuthorId)\n",
    "    author = aDf[only(findall(==(row.AuthorId), aDf.id)), :]\n",
    "    book = df[only(findall(==(row.BookId), df.id)), :]\n",
    "    # push!(pubI, book.PublisherId)\n",
    "    aDf[only(findall(==(row.AuthorId), aDf.id)), :].PublisherId = book.PublisherId\n",
    "end     "
   ]
  },
  {
   "cell_type": "code",
   "execution_count": null,
   "id": "7569a82f-0546-457c-8818-ff90c5fe5033",
   "metadata": {
    "pycharm": {
     "name": "#%%\n"
    }
   },
   "outputs": [],
   "source": []
  },
  {
   "cell_type": "code",
   "execution_count": null,
   "id": "174c7c2a-f56a-4de4-b17d-3b56f00443aa",
   "metadata": {
    "pycharm": {
     "name": "#%%\n"
    }
   },
   "outputs": [],
   "source": [
    "CSV.write(\".\\\\authors.csv\", aDf[:,[:id, :FirstName, :LastName, :Biography, :PublisherId]]; openquotechar='\"', closequotechar='\"', escapechar='\"', quotestrings=true)"
   ]
  },
  {
   "cell_type": "code",
   "execution_count": null,
   "id": "b82202b8-befd-487b-b03c-3cf80c3d67d7",
   "metadata": {
    "pycharm": {
     "name": "#%%\n"
    }
   },
   "outputs": [],
   "source": [
    "df.PublisherId = [StatsBase.sample([1,2,3]) for _ in range(start=1, stop=nrow(df))];"
   ]
  },
  {
   "cell_type": "code",
   "execution_count": null,
   "id": "5941d6c3-091e-4222-acf7-1a22acbdca65",
   "metadata": {
    "pycharm": {
     "name": "#%%\n"
    }
   },
   "outputs": [],
   "source": [
    "bbook_authors =  CSV.read(read(\"book_authors.bigger.csv\"), DataFrame);"
   ]
  },
  {
   "cell_type": "code",
   "execution_count": null,
   "id": "6aadc797-95c3-47be-a0c7-ff750743d184",
   "metadata": {
    "pycharm": {
     "name": "#%%\n"
    }
   },
   "outputs": [],
   "source": [
    "cbook_authors = vcat(bbook_authors, book_authors);"
   ]
  },
  {
   "cell_type": "code",
   "execution_count": null,
   "id": "59e7f17f-d08d-48f3-9516-ed05fd3d0e8b",
   "metadata": {
    "pycharm": {
     "name": "#%%\n"
    }
   },
   "outputs": [],
   "source": [
    "book_authors = unique(cbook_authors);"
   ]
  },
  {
   "cell_type": "code",
   "execution_count": null,
   "id": "16050c96-969d-4495-a285-55e7a228b0ce",
   "metadata": {
    "pycharm": {
     "name": "#%%\n"
    }
   },
   "outputs": [],
   "source": [
    "nrow(book_authors)"
   ]
  },
  {
   "cell_type": "code",
   "execution_count": null,
   "id": "3d626f6f-3db3-4255-98ba-fb78e20cdb3f",
   "metadata": {
    "pycharm": {
     "name": "#%%\n"
    }
   },
   "outputs": [],
   "source": [
    "oauthors = CSV.read(read(\"authors.old.csv\"), DataFrame);"
   ]
  },
  {
   "cell_type": "code",
   "execution_count": null,
   "id": "19151ba0-2b85-4176-a606-d44cfe63a971",
   "metadata": {
    "pycharm": {
     "name": "#%%\n"
    }
   },
   "outputs": [],
   "source": [
    "authors = CSV.read(read(\"authors.csv\"), DataFrame);"
   ]
  },
  {
   "cell_type": "code",
   "execution_count": null,
   "id": "ccca42cf-a3c7-4ad1-8f6a-6b5d1962555b",
   "metadata": {
    "pycharm": {
     "name": "#%%\n"
    }
   },
   "outputs": [],
   "source": [
    "authors = vcat(authors,oauthors);"
   ]
  },
  {
   "cell_type": "code",
   "execution_count": null,
   "id": "9581b248-687b-4962-87f2-c2b4f80bb4d0",
   "metadata": {
    "pycharm": {
     "name": "#%%\n"
    }
   },
   "outputs": [],
   "source": [
    "first(authors,5)"
   ]
  },
  {
   "cell_type": "code",
   "execution_count": null,
   "id": "5d71057a-a891-4aa9-9010-84d8998487a2",
   "metadata": {
    "pycharm": {
     "name": "#%%\n"
    }
   },
   "outputs": [],
   "source": [
    "authors = unique(authors, :id);"
   ]
  },
  {
   "cell_type": "code",
   "execution_count": null,
   "id": "d101c1ad-8603-4135-a20c-e15a96bd51ce",
   "metadata": {
    "pycharm": {
     "name": "#%%\n"
    }
   },
   "outputs": [],
   "source": [
    "nrow(authors)"
   ]
  },
  {
   "cell_type": "code",
   "execution_count": null,
   "id": "41950a21-fc26-405e-962d-e49773c32cf2",
   "metadata": {
    "pycharm": {
     "name": "#%%\n"
    }
   },
   "outputs": [],
   "source": [
    "authors = unique(authors, [:FirstName,:LastName]);"
   ]
  },
  {
   "cell_type": "code",
   "execution_count": null,
   "id": "d5b5ceaa-ed48-4c90-909e-c496f8b54224",
   "metadata": {
    "pycharm": {
     "name": "#%%\n"
    }
   },
   "outputs": [],
   "source": [
    "CSV.write(\".\\\\authors.csv\",authors)"
   ]
  },
  {
   "cell_type": "code",
   "execution_count": null,
   "id": "4188a29a-c8c7-44c1-88ca-e2a9bc8f66ef",
   "metadata": {
    "pycharm": {
     "name": "#%%\n"
    }
   },
   "outputs": [],
   "source": [
    "authors[findall(==(\"Mark\"), authors.FirstName), :]"
   ]
  },
  {
   "cell_type": "code",
   "execution_count": null,
   "id": "472c637a-52c5-421c-b15d-4ddfd1f6ce5f",
   "metadata": {
    "pycharm": {
     "name": "#%%\n"
    }
   },
   "outputs": [],
   "source": [
    "authors.author = [a.FirstName * \" \" * a.LastName for a in eachrow(authors)]; "
   ]
  },
  {
   "cell_type": "code",
   "execution_count": null,
   "id": "6ae5d40a-cef4-4908-9d0a-1ba10ff27c56",
   "metadata": {
    "pycharm": {
     "name": "#%%\n"
    }
   },
   "outputs": [],
   "source": [
    "first(authors,5)"
   ]
  },
  {
   "cell_type": "code",
   "execution_count": null,
   "id": "df3b6277-6095-4cdd-85ff-d8ffc2da18cb",
   "metadata": {
    "pycharm": {
     "name": "#%%\n"
    }
   },
   "outputs": [],
   "source": [
    "authors = authors[completecases(authors),:]\n",
    "disallowmissing!(authors);"
   ]
  },
  {
   "cell_type": "code",
   "execution_count": null,
   "id": "13bb0585-39bb-4c16-9edd-6b897a68480d",
   "metadata": {
    "pycharm": {
     "name": "#%%\n"
    }
   },
   "outputs": [],
   "source": []
  }
 ],
 "metadata": {
  "kernelspec": {
   "display_name": "Julia 1.8.5",
   "language": "julia",
   "name": "julia-1.8"
  },
  "language_info": {
   "file_extension": ".jl",
   "mimetype": "application/julia",
   "name": "julia",
   "version": "1.8.5"
  }
 },
 "nbformat": 4,
 "nbformat_minor": 5
}